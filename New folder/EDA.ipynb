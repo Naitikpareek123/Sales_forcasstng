{
 "cells": [
  {
   "cell_type": "code",
   "execution_count": 1,
   "metadata": {},
   "outputs": [],
   "source": [
    "import pandas as pd\n",
    "import seaborn as sns\n",
    "import matplotlib.pyplot as plt\n",
    "from sklearn.model_selection import train_test_split\n",
    "from sklearn import metrics\n",
    "from scipy.stats import mode"
   ]
  },
  {
   "cell_type": "code",
   "execution_count": 2,
   "metadata": {},
   "outputs": [],
   "source": [
    "df=pd.read_csv(r\"sales_prediction.csv\")"
   ]
  },
  {
   "cell_type": "code",
   "execution_count": 3,
   "metadata": {},
   "outputs": [
    {
     "name": "stdout",
     "output_type": "stream",
     "text": [
      "<class 'pandas.core.frame.DataFrame'>\n",
      "RangeIndex: 8523 entries, 0 to 8522\n",
      "Data columns (total 12 columns):\n",
      " #   Column                     Non-Null Count  Dtype  \n",
      "---  ------                     --------------  -----  \n",
      " 0   Item_Identifier            8523 non-null   object \n",
      " 1   Item_Weight                7060 non-null   float64\n",
      " 2   Item_Fat_Content           8523 non-null   object \n",
      " 3   Item_Visibility            8523 non-null   float64\n",
      " 4   Item_Type                  8523 non-null   object \n",
      " 5   Item_MRP                   8523 non-null   float64\n",
      " 6   Outlet_Identifier          8523 non-null   object \n",
      " 7   Outlet_Establishment_Year  8523 non-null   int64  \n",
      " 8   Outlet_Size                6113 non-null   object \n",
      " 9   Outlet_Location_Type       8523 non-null   object \n",
      " 10  Outlet_Type                8523 non-null   object \n",
      " 11  Item_Outlet_Sales          8523 non-null   float64\n",
      "dtypes: float64(4), int64(1), object(7)\n",
      "memory usage: 799.2+ KB\n"
     ]
    }
   ],
   "source": [
    "df.info()"
   ]
  },
  {
   "cell_type": "code",
   "execution_count": 4,
   "metadata": {},
   "outputs": [
    {
     "data": {
      "text/html": [
       "<div>\n",
       "<style scoped>\n",
       "    .dataframe tbody tr th:only-of-type {\n",
       "        vertical-align: middle;\n",
       "    }\n",
       "\n",
       "    .dataframe tbody tr th {\n",
       "        vertical-align: top;\n",
       "    }\n",
       "\n",
       "    .dataframe thead th {\n",
       "        text-align: right;\n",
       "    }\n",
       "</style>\n",
       "<table border=\"1\" class=\"dataframe\">\n",
       "  <thead>\n",
       "    <tr style=\"text-align: right;\">\n",
       "      <th></th>\n",
       "      <th>Item_Weight</th>\n",
       "      <th>Item_Visibility</th>\n",
       "      <th>Item_MRP</th>\n",
       "      <th>Outlet_Establishment_Year</th>\n",
       "      <th>Item_Outlet_Sales</th>\n",
       "    </tr>\n",
       "  </thead>\n",
       "  <tbody>\n",
       "    <tr>\n",
       "      <th>count</th>\n",
       "      <td>7060.000000</td>\n",
       "      <td>8523.000000</td>\n",
       "      <td>8523.000000</td>\n",
       "      <td>8523.000000</td>\n",
       "      <td>8523.000000</td>\n",
       "    </tr>\n",
       "    <tr>\n",
       "      <th>mean</th>\n",
       "      <td>12.857645</td>\n",
       "      <td>0.066132</td>\n",
       "      <td>140.992782</td>\n",
       "      <td>1997.831867</td>\n",
       "      <td>2181.288914</td>\n",
       "    </tr>\n",
       "    <tr>\n",
       "      <th>std</th>\n",
       "      <td>4.643456</td>\n",
       "      <td>0.051598</td>\n",
       "      <td>62.275067</td>\n",
       "      <td>8.371760</td>\n",
       "      <td>1706.499616</td>\n",
       "    </tr>\n",
       "    <tr>\n",
       "      <th>min</th>\n",
       "      <td>4.555000</td>\n",
       "      <td>0.000000</td>\n",
       "      <td>31.290000</td>\n",
       "      <td>1985.000000</td>\n",
       "      <td>33.290000</td>\n",
       "    </tr>\n",
       "    <tr>\n",
       "      <th>25%</th>\n",
       "      <td>8.773750</td>\n",
       "      <td>0.026989</td>\n",
       "      <td>93.826500</td>\n",
       "      <td>1987.000000</td>\n",
       "      <td>834.247400</td>\n",
       "    </tr>\n",
       "    <tr>\n",
       "      <th>50%</th>\n",
       "      <td>12.600000</td>\n",
       "      <td>0.053931</td>\n",
       "      <td>143.012800</td>\n",
       "      <td>1999.000000</td>\n",
       "      <td>1794.331000</td>\n",
       "    </tr>\n",
       "    <tr>\n",
       "      <th>75%</th>\n",
       "      <td>16.850000</td>\n",
       "      <td>0.094585</td>\n",
       "      <td>185.643700</td>\n",
       "      <td>2004.000000</td>\n",
       "      <td>3101.296400</td>\n",
       "    </tr>\n",
       "    <tr>\n",
       "      <th>max</th>\n",
       "      <td>21.350000</td>\n",
       "      <td>0.328391</td>\n",
       "      <td>266.888400</td>\n",
       "      <td>2009.000000</td>\n",
       "      <td>13086.964800</td>\n",
       "    </tr>\n",
       "  </tbody>\n",
       "</table>\n",
       "</div>"
      ],
      "text/plain": [
       "       Item_Weight  Item_Visibility     Item_MRP  Outlet_Establishment_Year  \\\n",
       "count  7060.000000      8523.000000  8523.000000                8523.000000   \n",
       "mean     12.857645         0.066132   140.992782                1997.831867   \n",
       "std       4.643456         0.051598    62.275067                   8.371760   \n",
       "min       4.555000         0.000000    31.290000                1985.000000   \n",
       "25%       8.773750         0.026989    93.826500                1987.000000   \n",
       "50%      12.600000         0.053931   143.012800                1999.000000   \n",
       "75%      16.850000         0.094585   185.643700                2004.000000   \n",
       "max      21.350000         0.328391   266.888400                2009.000000   \n",
       "\n",
       "       Item_Outlet_Sales  \n",
       "count        8523.000000  \n",
       "mean         2181.288914  \n",
       "std          1706.499616  \n",
       "min            33.290000  \n",
       "25%           834.247400  \n",
       "50%          1794.331000  \n",
       "75%          3101.296400  \n",
       "max         13086.964800  "
      ]
     },
     "execution_count": 4,
     "metadata": {},
     "output_type": "execute_result"
    }
   ],
   "source": [
    "df.describe()"
   ]
  },
  {
   "cell_type": "code",
   "execution_count": 5,
   "metadata": {},
   "outputs": [
    {
     "data": {
      "text/plain": [
       "Index(['Item_Identifier', 'Item_Weight', 'Item_Fat_Content', 'Item_Visibility',\n",
       "       'Item_Type', 'Item_MRP', 'Outlet_Identifier',\n",
       "       'Outlet_Establishment_Year', 'Outlet_Size', 'Outlet_Location_Type',\n",
       "       'Outlet_Type', 'Item_Outlet_Sales'],\n",
       "      dtype='object')"
      ]
     },
     "execution_count": 5,
     "metadata": {},
     "output_type": "execute_result"
    }
   ],
   "source": [
    "df.columns"
   ]
  },
  {
   "cell_type": "code",
   "execution_count": 6,
   "metadata": {},
   "outputs": [
    {
     "data": {
      "text/plain": [
       "Item_Identifier                 0\n",
       "Item_Weight                  1463\n",
       "Item_Fat_Content                0\n",
       "Item_Visibility                 0\n",
       "Item_Type                       0\n",
       "Item_MRP                        0\n",
       "Outlet_Identifier               0\n",
       "Outlet_Establishment_Year       0\n",
       "Outlet_Size                  2410\n",
       "Outlet_Location_Type            0\n",
       "Outlet_Type                     0\n",
       "Item_Outlet_Sales               0\n",
       "dtype: int64"
      ]
     },
     "execution_count": 6,
     "metadata": {},
     "output_type": "execute_result"
    }
   ],
   "source": [
    "df.isnull().sum()"
   ]
  },
  {
   "cell_type": "code",
   "execution_count": 7,
   "metadata": {},
   "outputs": [],
   "source": [
    "x=df.drop(columns=['Item_Outlet_Sales'])\n",
    "y=df['Item_Outlet_Sales']"
   ]
  },
  {
   "cell_type": "code",
   "execution_count": 8,
   "metadata": {},
   "outputs": [
    {
     "data": {
      "text/plain": [
       "((6818, 11), (1705, 11))"
      ]
     },
     "execution_count": 8,
     "metadata": {},
     "output_type": "execute_result"
    }
   ],
   "source": [
    "X_train,X_test,Y_train,Y_test=train_test_split(x,y,test_size=0.2,random_state=42)\n",
    "\n",
    "X_train.shape,X_test.shape"
   ]
  },
  {
   "cell_type": "code",
   "execution_count": 9,
   "metadata": {},
   "outputs": [
    {
     "data": {
      "text/html": [
       "<div>\n",
       "<style scoped>\n",
       "    .dataframe tbody tr th:only-of-type {\n",
       "        vertical-align: middle;\n",
       "    }\n",
       "\n",
       "    .dataframe tbody tr th {\n",
       "        vertical-align: top;\n",
       "    }\n",
       "\n",
       "    .dataframe thead th {\n",
       "        text-align: right;\n",
       "    }\n",
       "</style>\n",
       "<table border=\"1\" class=\"dataframe\">\n",
       "  <thead>\n",
       "    <tr style=\"text-align: right;\">\n",
       "      <th></th>\n",
       "      <th>Item_Identifier</th>\n",
       "      <th>Item_Weight</th>\n",
       "      <th>Item_Fat_Content</th>\n",
       "      <th>Item_Visibility</th>\n",
       "      <th>Item_Type</th>\n",
       "      <th>Item_MRP</th>\n",
       "      <th>Outlet_Identifier</th>\n",
       "      <th>Outlet_Establishment_Year</th>\n",
       "      <th>Outlet_Size</th>\n",
       "      <th>Outlet_Location_Type</th>\n",
       "      <th>Outlet_Type</th>\n",
       "    </tr>\n",
       "  </thead>\n",
       "  <tbody>\n",
       "    <tr>\n",
       "      <th>549</th>\n",
       "      <td>FDW44</td>\n",
       "      <td>9.500</td>\n",
       "      <td>Regular</td>\n",
       "      <td>0.035206</td>\n",
       "      <td>Fruits and Vegetables</td>\n",
       "      <td>171.3448</td>\n",
       "      <td>OUT049</td>\n",
       "      <td>1999</td>\n",
       "      <td>Medium</td>\n",
       "      <td>Tier 1</td>\n",
       "      <td>Supermarket Type1</td>\n",
       "    </tr>\n",
       "    <tr>\n",
       "      <th>7757</th>\n",
       "      <td>NCF54</td>\n",
       "      <td>18.000</td>\n",
       "      <td>Low Fat</td>\n",
       "      <td>0.047473</td>\n",
       "      <td>Household</td>\n",
       "      <td>170.5422</td>\n",
       "      <td>OUT045</td>\n",
       "      <td>2002</td>\n",
       "      <td>NaN</td>\n",
       "      <td>Tier 2</td>\n",
       "      <td>Supermarket Type1</td>\n",
       "    </tr>\n",
       "    <tr>\n",
       "      <th>764</th>\n",
       "      <td>FDY03</td>\n",
       "      <td>17.600</td>\n",
       "      <td>Regular</td>\n",
       "      <td>0.076122</td>\n",
       "      <td>Meat</td>\n",
       "      <td>111.7202</td>\n",
       "      <td>OUT046</td>\n",
       "      <td>1997</td>\n",
       "      <td>Small</td>\n",
       "      <td>Tier 1</td>\n",
       "      <td>Supermarket Type1</td>\n",
       "    </tr>\n",
       "    <tr>\n",
       "      <th>6867</th>\n",
       "      <td>FDQ20</td>\n",
       "      <td>8.325</td>\n",
       "      <td>Low Fat</td>\n",
       "      <td>0.029845</td>\n",
       "      <td>Fruits and Vegetables</td>\n",
       "      <td>41.6138</td>\n",
       "      <td>OUT045</td>\n",
       "      <td>2002</td>\n",
       "      <td>NaN</td>\n",
       "      <td>Tier 2</td>\n",
       "      <td>Supermarket Type1</td>\n",
       "    </tr>\n",
       "    <tr>\n",
       "      <th>2716</th>\n",
       "      <td>FDP34</td>\n",
       "      <td>12.850</td>\n",
       "      <td>Low Fat</td>\n",
       "      <td>0.137228</td>\n",
       "      <td>Snack Foods</td>\n",
       "      <td>155.5630</td>\n",
       "      <td>OUT046</td>\n",
       "      <td>1997</td>\n",
       "      <td>Small</td>\n",
       "      <td>Tier 1</td>\n",
       "      <td>Supermarket Type1</td>\n",
       "    </tr>\n",
       "  </tbody>\n",
       "</table>\n",
       "</div>"
      ],
      "text/plain": [
       "     Item_Identifier  Item_Weight Item_Fat_Content  Item_Visibility  \\\n",
       "549            FDW44        9.500          Regular         0.035206   \n",
       "7757           NCF54       18.000          Low Fat         0.047473   \n",
       "764            FDY03       17.600          Regular         0.076122   \n",
       "6867           FDQ20        8.325          Low Fat         0.029845   \n",
       "2716           FDP34       12.850          Low Fat         0.137228   \n",
       "\n",
       "                  Item_Type  Item_MRP Outlet_Identifier  \\\n",
       "549   Fruits and Vegetables  171.3448            OUT049   \n",
       "7757              Household  170.5422            OUT045   \n",
       "764                    Meat  111.7202            OUT046   \n",
       "6867  Fruits and Vegetables   41.6138            OUT045   \n",
       "2716            Snack Foods  155.5630            OUT046   \n",
       "\n",
       "      Outlet_Establishment_Year Outlet_Size Outlet_Location_Type  \\\n",
       "549                        1999      Medium               Tier 1   \n",
       "7757                       2002         NaN               Tier 2   \n",
       "764                        1997       Small               Tier 1   \n",
       "6867                       2002         NaN               Tier 2   \n",
       "2716                       1997       Small               Tier 1   \n",
       "\n",
       "            Outlet_Type  \n",
       "549   Supermarket Type1  \n",
       "7757  Supermarket Type1  \n",
       "764   Supermarket Type1  \n",
       "6867  Supermarket Type1  \n",
       "2716  Supermarket Type1  "
      ]
     },
     "execution_count": 9,
     "metadata": {},
     "output_type": "execute_result"
    }
   ],
   "source": [
    "X_train.head(5)"
   ]
  },
  {
   "cell_type": "code",
   "execution_count": 10,
   "metadata": {},
   "outputs": [],
   "source": [
    "X_train_N=X_train.copy()"
   ]
  },
  {
   "cell_type": "code",
   "execution_count": 11,
   "metadata": {},
   "outputs": [
    {
     "name": "stdout",
     "output_type": "stream",
     "text": [
      "<class 'pandas.core.frame.DataFrame'>\n",
      "Int64Index: 6818 entries, 549 to 7270\n",
      "Data columns (total 11 columns):\n",
      " #   Column                     Non-Null Count  Dtype  \n",
      "---  ------                     --------------  -----  \n",
      " 0   Item_Identifier            6818 non-null   object \n",
      " 1   Item_Weight                5644 non-null   float64\n",
      " 2   Item_Fat_Content           6818 non-null   object \n",
      " 3   Item_Visibility            6818 non-null   float64\n",
      " 4   Item_Type                  6818 non-null   object \n",
      " 5   Item_MRP                   6818 non-null   float64\n",
      " 6   Outlet_Identifier          6818 non-null   object \n",
      " 7   Outlet_Establishment_Year  6818 non-null   int64  \n",
      " 8   Outlet_Size                4883 non-null   object \n",
      " 9   Outlet_Location_Type       6818 non-null   object \n",
      " 10  Outlet_Type                6818 non-null   object \n",
      "dtypes: float64(3), int64(1), object(7)\n",
      "memory usage: 639.2+ KB\n"
     ]
    }
   ],
   "source": [
    "X_train_N.info()"
   ]
  },
  {
   "cell_type": "code",
   "execution_count": 12,
   "metadata": {},
   "outputs": [
    {
     "data": {
      "text/plain": [
       "Item_Identifier                 0\n",
       "Item_Weight                  1174\n",
       "Item_Fat_Content                0\n",
       "Item_Visibility                 0\n",
       "Item_Type                       0\n",
       "Item_MRP                        0\n",
       "Outlet_Identifier               0\n",
       "Outlet_Establishment_Year       0\n",
       "Outlet_Size                  1935\n",
       "Outlet_Location_Type            0\n",
       "Outlet_Type                     0\n",
       "dtype: int64"
      ]
     },
     "execution_count": 12,
     "metadata": {},
     "output_type": "execute_result"
    }
   ],
   "source": [
    "X_train_N.isnull().sum()"
   ]
  },
  {
   "cell_type": "code",
   "execution_count": 13,
   "metadata": {},
   "outputs": [],
   "source": [
    "int_data=X_train_N.select_dtypes(exclude=['object'])"
   ]
  },
  {
   "cell_type": "code",
   "execution_count": 14,
   "metadata": {},
   "outputs": [
    {
     "data": {
      "text/html": [
       "<div>\n",
       "<style scoped>\n",
       "    .dataframe tbody tr th:only-of-type {\n",
       "        vertical-align: middle;\n",
       "    }\n",
       "\n",
       "    .dataframe tbody tr th {\n",
       "        vertical-align: top;\n",
       "    }\n",
       "\n",
       "    .dataframe thead th {\n",
       "        text-align: right;\n",
       "    }\n",
       "</style>\n",
       "<table border=\"1\" class=\"dataframe\">\n",
       "  <thead>\n",
       "    <tr style=\"text-align: right;\">\n",
       "      <th></th>\n",
       "      <th>Item_Weight</th>\n",
       "      <th>Item_Visibility</th>\n",
       "      <th>Item_MRP</th>\n",
       "      <th>Outlet_Establishment_Year</th>\n",
       "    </tr>\n",
       "  </thead>\n",
       "  <tbody>\n",
       "    <tr>\n",
       "      <th>549</th>\n",
       "      <td>9.500</td>\n",
       "      <td>0.035206</td>\n",
       "      <td>171.3448</td>\n",
       "      <td>1999</td>\n",
       "    </tr>\n",
       "    <tr>\n",
       "      <th>7757</th>\n",
       "      <td>18.000</td>\n",
       "      <td>0.047473</td>\n",
       "      <td>170.5422</td>\n",
       "      <td>2002</td>\n",
       "    </tr>\n",
       "    <tr>\n",
       "      <th>764</th>\n",
       "      <td>17.600</td>\n",
       "      <td>0.076122</td>\n",
       "      <td>111.7202</td>\n",
       "      <td>1997</td>\n",
       "    </tr>\n",
       "    <tr>\n",
       "      <th>6867</th>\n",
       "      <td>8.325</td>\n",
       "      <td>0.029845</td>\n",
       "      <td>41.6138</td>\n",
       "      <td>2002</td>\n",
       "    </tr>\n",
       "    <tr>\n",
       "      <th>2716</th>\n",
       "      <td>12.850</td>\n",
       "      <td>0.137228</td>\n",
       "      <td>155.5630</td>\n",
       "      <td>1997</td>\n",
       "    </tr>\n",
       "    <tr>\n",
       "      <th>...</th>\n",
       "      <td>...</td>\n",
       "      <td>...</td>\n",
       "      <td>...</td>\n",
       "      <td>...</td>\n",
       "    </tr>\n",
       "    <tr>\n",
       "      <th>5734</th>\n",
       "      <td>9.395</td>\n",
       "      <td>0.286345</td>\n",
       "      <td>139.1838</td>\n",
       "      <td>1998</td>\n",
       "    </tr>\n",
       "    <tr>\n",
       "      <th>5191</th>\n",
       "      <td>15.600</td>\n",
       "      <td>0.117575</td>\n",
       "      <td>75.6670</td>\n",
       "      <td>2007</td>\n",
       "    </tr>\n",
       "    <tr>\n",
       "      <th>5390</th>\n",
       "      <td>17.600</td>\n",
       "      <td>0.018944</td>\n",
       "      <td>237.3590</td>\n",
       "      <td>2002</td>\n",
       "    </tr>\n",
       "    <tr>\n",
       "      <th>860</th>\n",
       "      <td>20.350</td>\n",
       "      <td>0.054363</td>\n",
       "      <td>117.9466</td>\n",
       "      <td>2007</td>\n",
       "    </tr>\n",
       "    <tr>\n",
       "      <th>7270</th>\n",
       "      <td>16.350</td>\n",
       "      <td>0.016993</td>\n",
       "      <td>95.7410</td>\n",
       "      <td>1997</td>\n",
       "    </tr>\n",
       "  </tbody>\n",
       "</table>\n",
       "<p>6818 rows × 4 columns</p>\n",
       "</div>"
      ],
      "text/plain": [
       "      Item_Weight  Item_Visibility  Item_MRP  Outlet_Establishment_Year\n",
       "549         9.500         0.035206  171.3448                       1999\n",
       "7757       18.000         0.047473  170.5422                       2002\n",
       "764        17.600         0.076122  111.7202                       1997\n",
       "6867        8.325         0.029845   41.6138                       2002\n",
       "2716       12.850         0.137228  155.5630                       1997\n",
       "...           ...              ...       ...                        ...\n",
       "5734        9.395         0.286345  139.1838                       1998\n",
       "5191       15.600         0.117575   75.6670                       2007\n",
       "5390       17.600         0.018944  237.3590                       2002\n",
       "860        20.350         0.054363  117.9466                       2007\n",
       "7270       16.350         0.016993   95.7410                       1997\n",
       "\n",
       "[6818 rows x 4 columns]"
      ]
     },
     "execution_count": 14,
     "metadata": {},
     "output_type": "execute_result"
    }
   ],
   "source": [
    "int_data"
   ]
  },
  {
   "cell_type": "code",
   "execution_count": 15,
   "metadata": {},
   "outputs": [
    {
     "data": {
      "text/html": [
       "<div>\n",
       "<style scoped>\n",
       "    .dataframe tbody tr th:only-of-type {\n",
       "        vertical-align: middle;\n",
       "    }\n",
       "\n",
       "    .dataframe tbody tr th {\n",
       "        vertical-align: top;\n",
       "    }\n",
       "\n",
       "    .dataframe thead th {\n",
       "        text-align: right;\n",
       "    }\n",
       "</style>\n",
       "<table border=\"1\" class=\"dataframe\">\n",
       "  <thead>\n",
       "    <tr style=\"text-align: right;\">\n",
       "      <th></th>\n",
       "      <th>Item_Weight</th>\n",
       "      <th>Item_Visibility</th>\n",
       "      <th>Item_MRP</th>\n",
       "      <th>Outlet_Establishment_Year</th>\n",
       "    </tr>\n",
       "  </thead>\n",
       "  <tbody>\n",
       "    <tr>\n",
       "      <th>count</th>\n",
       "      <td>5644.000000</td>\n",
       "      <td>6818.000000</td>\n",
       "      <td>6818.000000</td>\n",
       "      <td>6818.000000</td>\n",
       "    </tr>\n",
       "    <tr>\n",
       "      <th>mean</th>\n",
       "      <td>12.886347</td>\n",
       "      <td>0.066097</td>\n",
       "      <td>141.905134</td>\n",
       "      <td>1997.856850</td>\n",
       "    </tr>\n",
       "    <tr>\n",
       "      <th>std</th>\n",
       "      <td>4.644777</td>\n",
       "      <td>0.051429</td>\n",
       "      <td>62.547789</td>\n",
       "      <td>8.395692</td>\n",
       "    </tr>\n",
       "    <tr>\n",
       "      <th>min</th>\n",
       "      <td>4.555000</td>\n",
       "      <td>0.000000</td>\n",
       "      <td>31.290000</td>\n",
       "      <td>1985.000000</td>\n",
       "    </tr>\n",
       "    <tr>\n",
       "      <th>25%</th>\n",
       "      <td>8.880000</td>\n",
       "      <td>0.026939</td>\n",
       "      <td>94.175200</td>\n",
       "      <td>1987.000000</td>\n",
       "    </tr>\n",
       "    <tr>\n",
       "      <th>50%</th>\n",
       "      <td>12.600000</td>\n",
       "      <td>0.054129</td>\n",
       "      <td>144.262800</td>\n",
       "      <td>1999.000000</td>\n",
       "    </tr>\n",
       "    <tr>\n",
       "      <th>75%</th>\n",
       "      <td>16.850000</td>\n",
       "      <td>0.094791</td>\n",
       "      <td>186.855600</td>\n",
       "      <td>2004.000000</td>\n",
       "    </tr>\n",
       "    <tr>\n",
       "      <th>max</th>\n",
       "      <td>21.350000</td>\n",
       "      <td>0.328391</td>\n",
       "      <td>266.888400</td>\n",
       "      <td>2009.000000</td>\n",
       "    </tr>\n",
       "  </tbody>\n",
       "</table>\n",
       "</div>"
      ],
      "text/plain": [
       "       Item_Weight  Item_Visibility     Item_MRP  Outlet_Establishment_Year\n",
       "count  5644.000000      6818.000000  6818.000000                6818.000000\n",
       "mean     12.886347         0.066097   141.905134                1997.856850\n",
       "std       4.644777         0.051429    62.547789                   8.395692\n",
       "min       4.555000         0.000000    31.290000                1985.000000\n",
       "25%       8.880000         0.026939    94.175200                1987.000000\n",
       "50%      12.600000         0.054129   144.262800                1999.000000\n",
       "75%      16.850000         0.094791   186.855600                2004.000000\n",
       "max      21.350000         0.328391   266.888400                2009.000000"
      ]
     },
     "execution_count": 15,
     "metadata": {},
     "output_type": "execute_result"
    }
   ],
   "source": [
    "int_data.describe()"
   ]
  },
  {
   "cell_type": "code",
   "execution_count": 16,
   "metadata": {},
   "outputs": [],
   "source": [
    "object_data=X_train.select_dtypes(include=['object'])"
   ]
  },
  {
   "cell_type": "code",
   "execution_count": 17,
   "metadata": {},
   "outputs": [
    {
     "data": {
      "text/html": [
       "<div>\n",
       "<style scoped>\n",
       "    .dataframe tbody tr th:only-of-type {\n",
       "        vertical-align: middle;\n",
       "    }\n",
       "\n",
       "    .dataframe tbody tr th {\n",
       "        vertical-align: top;\n",
       "    }\n",
       "\n",
       "    .dataframe thead th {\n",
       "        text-align: right;\n",
       "    }\n",
       "</style>\n",
       "<table border=\"1\" class=\"dataframe\">\n",
       "  <thead>\n",
       "    <tr style=\"text-align: right;\">\n",
       "      <th></th>\n",
       "      <th>Item_Identifier</th>\n",
       "      <th>Item_Fat_Content</th>\n",
       "      <th>Item_Type</th>\n",
       "      <th>Outlet_Identifier</th>\n",
       "      <th>Outlet_Size</th>\n",
       "      <th>Outlet_Location_Type</th>\n",
       "      <th>Outlet_Type</th>\n",
       "    </tr>\n",
       "  </thead>\n",
       "  <tbody>\n",
       "    <tr>\n",
       "      <th>count</th>\n",
       "      <td>6818</td>\n",
       "      <td>6818</td>\n",
       "      <td>6818</td>\n",
       "      <td>6818</td>\n",
       "      <td>4883</td>\n",
       "      <td>6818</td>\n",
       "      <td>6818</td>\n",
       "    </tr>\n",
       "    <tr>\n",
       "      <th>unique</th>\n",
       "      <td>1555</td>\n",
       "      <td>5</td>\n",
       "      <td>16</td>\n",
       "      <td>10</td>\n",
       "      <td>3</td>\n",
       "      <td>3</td>\n",
       "      <td>4</td>\n",
       "    </tr>\n",
       "    <tr>\n",
       "      <th>top</th>\n",
       "      <td>FDD38</td>\n",
       "      <td>Low Fat</td>\n",
       "      <td>Fruits and Vegetables</td>\n",
       "      <td>OUT027</td>\n",
       "      <td>Medium</td>\n",
       "      <td>Tier 3</td>\n",
       "      <td>Supermarket Type1</td>\n",
       "    </tr>\n",
       "    <tr>\n",
       "      <th>freq</th>\n",
       "      <td>9</td>\n",
       "      <td>4035</td>\n",
       "      <td>1002</td>\n",
       "      <td>761</td>\n",
       "      <td>2233</td>\n",
       "      <td>2703</td>\n",
       "      <td>4446</td>\n",
       "    </tr>\n",
       "  </tbody>\n",
       "</table>\n",
       "</div>"
      ],
      "text/plain": [
       "       Item_Identifier Item_Fat_Content              Item_Type  \\\n",
       "count             6818             6818                   6818   \n",
       "unique            1555                5                     16   \n",
       "top              FDD38          Low Fat  Fruits and Vegetables   \n",
       "freq                 9             4035                   1002   \n",
       "\n",
       "       Outlet_Identifier Outlet_Size Outlet_Location_Type        Outlet_Type  \n",
       "count               6818        4883                 6818               6818  \n",
       "unique                10           3                    3                  4  \n",
       "top               OUT027      Medium               Tier 3  Supermarket Type1  \n",
       "freq                 761        2233                 2703               4446  "
      ]
     },
     "execution_count": 17,
     "metadata": {},
     "output_type": "execute_result"
    }
   ],
   "source": [
    "object_data.describe()"
   ]
  },
  {
   "cell_type": "code",
   "execution_count": 18,
   "metadata": {},
   "outputs": [
    {
     "data": {
      "text/plain": [
       "Item_Identifier            0\n",
       "Item_Fat_Content           0\n",
       "Item_Type                  0\n",
       "Outlet_Identifier          0\n",
       "Outlet_Size             1935\n",
       "Outlet_Location_Type       0\n",
       "Outlet_Type                0\n",
       "dtype: int64"
      ]
     },
     "execution_count": 18,
     "metadata": {},
     "output_type": "execute_result"
    }
   ],
   "source": [
    "object_data.isnull().sum()"
   ]
  },
  {
   "cell_type": "code",
   "execution_count": 19,
   "metadata": {},
   "outputs": [
    {
     "data": {
      "text/html": [
       "<div>\n",
       "<style scoped>\n",
       "    .dataframe tbody tr th:only-of-type {\n",
       "        vertical-align: middle;\n",
       "    }\n",
       "\n",
       "    .dataframe tbody tr th {\n",
       "        vertical-align: top;\n",
       "    }\n",
       "\n",
       "    .dataframe thead th {\n",
       "        text-align: right;\n",
       "    }\n",
       "</style>\n",
       "<table border=\"1\" class=\"dataframe\">\n",
       "  <thead>\n",
       "    <tr style=\"text-align: right;\">\n",
       "      <th></th>\n",
       "      <th>Item_Identifier</th>\n",
       "      <th>Item_Weight</th>\n",
       "    </tr>\n",
       "  </thead>\n",
       "  <tbody>\n",
       "    <tr>\n",
       "      <th>1245</th>\n",
       "      <td>DRA12</td>\n",
       "      <td>11.60</td>\n",
       "    </tr>\n",
       "    <tr>\n",
       "      <th>4416</th>\n",
       "      <td>DRA24</td>\n",
       "      <td>NaN</td>\n",
       "    </tr>\n",
       "    <tr>\n",
       "      <th>4900</th>\n",
       "      <td>DRA24</td>\n",
       "      <td>19.35</td>\n",
       "    </tr>\n",
       "    <tr>\n",
       "      <th>8371</th>\n",
       "      <td>DRA59</td>\n",
       "      <td>8.27</td>\n",
       "    </tr>\n",
       "    <tr>\n",
       "      <th>6057</th>\n",
       "      <td>DRA59</td>\n",
       "      <td>NaN</td>\n",
       "    </tr>\n",
       "    <tr>\n",
       "      <th>...</th>\n",
       "      <td>...</td>\n",
       "      <td>...</td>\n",
       "    </tr>\n",
       "    <tr>\n",
       "      <th>6056</th>\n",
       "      <td>NCZ42</td>\n",
       "      <td>10.50</td>\n",
       "    </tr>\n",
       "    <tr>\n",
       "      <th>6879</th>\n",
       "      <td>NCZ53</td>\n",
       "      <td>9.60</td>\n",
       "    </tr>\n",
       "    <tr>\n",
       "      <th>2084</th>\n",
       "      <td>NCZ53</td>\n",
       "      <td>NaN</td>\n",
       "    </tr>\n",
       "    <tr>\n",
       "      <th>1896</th>\n",
       "      <td>NCZ54</td>\n",
       "      <td>NaN</td>\n",
       "    </tr>\n",
       "    <tr>\n",
       "      <th>214</th>\n",
       "      <td>NCZ54</td>\n",
       "      <td>14.65</td>\n",
       "    </tr>\n",
       "  </tbody>\n",
       "</table>\n",
       "<p>2515 rows × 2 columns</p>\n",
       "</div>"
      ],
      "text/plain": [
       "     Item_Identifier  Item_Weight\n",
       "1245           DRA12        11.60\n",
       "4416           DRA24          NaN\n",
       "4900           DRA24        19.35\n",
       "8371           DRA59         8.27\n",
       "6057           DRA59          NaN\n",
       "...              ...          ...\n",
       "6056           NCZ42        10.50\n",
       "6879           NCZ53         9.60\n",
       "2084           NCZ53          NaN\n",
       "1896           NCZ54          NaN\n",
       "214            NCZ54        14.65\n",
       "\n",
       "[2515 rows x 2 columns]"
      ]
     },
     "execution_count": 19,
     "metadata": {},
     "output_type": "execute_result"
    }
   ],
   "source": [
    "X_train_N[['Item_Identifier','Item_Weight']].drop_duplicates().sort_values(by=['Item_Identifier'])"
   ]
  },
  {
   "cell_type": "code",
   "execution_count": 20,
   "metadata": {},
   "outputs": [
    {
     "data": {
      "text/plain": [
       "dict_items([('DRA12', 11.6), ('DRA24', 19.35), ('DRA59', 8.27), ('DRB01', 7.39), ('DRB13', 6.115), ('DRB24', 8.785), ('DRB25', 12.3), ('DRB48', 16.75), ('DRC01', 5.92), ('DRC12', 17.85), ('DRC13', 8.26), ('DRC24', 17.85), ('DRC25', 5.73), ('DRC27', 13.8), ('DRC36', 13.0), ('DRC49', 8.67), ('DRD01', 12.1), ('DRD12', 6.96), ('DRD13', 15.0), ('DRD15', 10.6), ('DRD24', 13.85), ('DRD25', 6.135), ('DRD27', 18.75), ('DRD37', 9.8), ('DRD49', 9.895), ('DRD60', 15.7), ('DRE01', 10.1), ('DRE03', 19.6), ('DRE12', 4.59), ('DRE13', 6.28), ('DRE15', 13.35), ('DRE25', 15.35), ('DRE27', 11.85), ('DRE37', 13.5), ('DRE48', 8.43), ('DRE49', 20.75), ('DRE60', 9.395), ('DRF01', 5.655), ('DRF03', 19.1), ('DRF13', 12.1), ('DRF15', 18.35), ('DRF23', 4.61), ('DRF25', 9.0), ('DRF27', 8.93), ('DRF36', 16.1), ('DRF37', 17.25), ('DRF48', 5.73), ('DRF49', 7.27), ('DRF51', 15.75), ('DRF60', 10.8), ('DRG01', 14.8), ('DRG03', 14.5), ('DRG11', 6.385), ('DRG13', 17.25), ('DRG15', 6.13), ('DRG23', 8.88), ('DRG25', 10.5), ('DRG27', 8.895), ('DRG36', 14.15), ('DRG37', 16.2), ('DRG39', 14.15), ('DRG48', 5.78), ('DRG49', 7.81), ('DRG51', 12.1), ('DRH01', 17.5), ('DRH03', 17.25), ('DRH11', 5.98), ('DRH13', 8.575), ('DRH15', 8.775), ('DRH23', 14.65), ('DRH25', 18.7), ('DRH36', 16.2), ('DRH37', 17.6), ('DRH39', 20.7), ('DRH49', 19.7), ('DRH51', 17.6), ('DRH59', 10.8), ('DRI01', 7.97), ('DRI03', 6.03), ('DRI11', 8.26), ('DRI13', 15.35), ('DRI23', 18.85), ('DRI25', 19.6), ('DRI37', 15.85), ('DRI39', 13.8), ('DRI47', 14.7), ('DRI49', 14.15), ('DRI51', 17.25), ('DRI59', 9.5), ('DRJ01', 6.135), ('DRJ11', 9.5), ('DRJ13', 12.65), ('DRJ23', 18.35), ('DRJ24', 11.8), ('DRJ25', 14.6), ('DRJ35', 10.1), ('DRJ37', 10.8), ('DRJ39', 20.25), ('DRJ47', 18.25), ('DRJ49', 6.865), ('DRJ51', 14.1), ('DRJ59', 11.65), ('DRK01', 7.63), ('DRK11', 8.21), ('DRK12', 9.5), ('DRK13', 11.8), ('DRK23', 8.395), ('DRK35', 8.365), ('DRK37', 5.0), ('DRK39', 7.02), ('DRK47', 7.905), ('DRK49', 14.15), ('DRK59', 8.895), ('DRL01', 19.5), ('DRL11', 10.5), ('DRL23', 18.35), ('DRL35', 15.7), ('DRL37', 15.5), ('DRL47', 19.7), ('DRL49', 13.15), ('DRL60', 8.52), ('DRM11', 6.57), ('DRM23', 16.6), ('DRM35', 9.695), ('DRM37', 15.35), ('DRM47', 9.3), ('DRM48', 15.2), ('DRM49', 6.11), ('DRM59', 5.88), ('DRN11', 7.85), ('DRN35', 8.01), ('DRN36', 15.2), ('DRN37', 9.6), ('DRN47', 12.1), ('DRN59', 15.0), ('DRO35', 13.85), ('DRO47', 10.195), ('DRO59', 11.8), ('DRP35', 18.85), ('DRP47', 15.75), ('DRQ35', 9.3), ('DRY23', 9.395), ('DRZ11', 8.85), ('DRZ24', 7.535), ('FDA01', 15.0), ('FDA02', 14.0), ('FDA03', 18.5), ('FDA04', 11.3), ('FDA07', 7.55), ('FDA08', 11.85), ('FDA09', 13.35), ('FDA10', 20.35), ('FDA11', 7.75), ('FDA13', 15.85), ('FDA14', 16.1), ('FDA15', 9.3), ('FDA16', 6.695), ('FDA19', 7.52), ('FDA20', 6.78), ('FDA21', 13.65), ('FDA22', 7.435), ('FDA23', 9.8), ('FDA25', 16.5), ('FDA26', 7.855), ('FDA27', 20.35), ('FDA28', 16.1), ('FDA31', 7.1), ('FDA32', 14.0), ('FDA33', 6.48), ('FDA34', 11.5), ('FDA35', 14.85), ('FDA36', 5.985), ('FDA37', 7.81), ('FDA38', 5.44), ('FDA39', 6.32), ('FDA40', 16.0), ('FDA43', 10.895), ('FDA44', 19.7), ('FDA45', 21.25), ('FDA46', 13.6), ('FDA47', 10.5), ('FDA48', 12.1), ('FDA49', 19.7), ('FDA50', 16.25), ('FDA51', 8.05), ('FDA52', 16.2), ('FDA55', 17.2), ('FDA56', 9.21), ('FDA57', 18.85), ('FDA58', 9.395), ('FDB02', 9.695), ('FDB03', 17.75), ('FDB04', 11.35), ('FDB05', 5.155), ('FDB08', 6.055), ('FDB09', 16.25), ('FDB10', 10.0), ('FDB11', 16.0), ('FDB12', 11.15), ('FDB14', 20.25), ('FDB15', 10.895), ('FDB16', 8.21), ('FDB17', 13.15), ('FDB20', 7.72), ('FDB21', 7.475), ('FDB22', 8.02), ('FDB23', 19.2), ('FDB26', 14.0), ('FDB27', 7.575), ('FDB28', 6.615), ('FDB29', 16.7), ('FDB32', 20.6), ('FDB33', 17.75), ('FDB34', 15.25), ('FDB35', 12.3), ('FDB36', 5.465), ('FDB37', 20.25), ('FDB38', 19.5), ('FDB39', 11.6), ('FDB40', 17.5), ('FDB41', 19.0), ('FDB44', 6.655), ('FDB45', 20.85), ('FDB46', 10.5), ('FDB47', 8.8), ('FDB49', 8.3), ('FDB50', 13.0), ('FDB51', 6.92), ('FDB52', 17.75), ('FDB53', 13.35), ('FDB56', 8.75), ('FDB57', 20.25), ('FDB58', 10.5), ('FDB59', 18.25), ('FDB60', 9.3), ('FDC02', 21.35), ('FDC03', 8.575), ('FDC04', 15.6), ('FDC05', 13.1), ('FDC08', 19.0), ('FDC09', 15.5), ('FDC10', 9.8), ('FDC11', 20.5), ('FDC14', 14.5), ('FDC15', 18.1), ('FDC16', 11.5), ('FDC17', 12.15), ('FDC20', 10.65), ('FDC21', 14.6), ('FDC22', 6.89), ('FDC23', 18.0), ('FDC26', 10.195), ('FDC28', 7.905), ('FDC29', 8.39), ('FDC32', 18.35), ('FDC33', 8.96), ('FDC34', 16.0), ('FDC35', 7.435), ('FDC37', 15.5), ('FDC38', 15.7), ('FDC39', 7.405), ('FDC40', 16.0), ('FDC41', 15.6), ('FDC44', 15.6), ('FDC45', 17.0), ('FDC46', 17.7), ('FDC47', 15.0), ('FDC48', 9.195), ('FDC50', 15.85), ('FDC51', 10.895), ('FDC52', 11.15), ('FDC53', 8.68), ('FDC56', 7.72), ('FDC57', 20.1), ('FDC58', 10.195), ('FDC59', 16.7), ('FDC60', 5.425), ('FDD02', 16.6), ('FDD03', 13.3), ('FDD04', 16.0), ('FDD05', 19.35), ('FDD08', 8.3), ('FDD09', 13.5), ('FDD10', 20.6), ('FDD11', 12.85), ('FDD14', 20.7), ('FDD16', 20.5), ('FDD17', 7.5), ('FDD20', 14.15), ('FDD21', 10.3), ('FDD22', 10.0), ('FDD23', 9.5), ('FDD26', 8.71), ('FDD28', 10.695), ('FDD29', 12.15), ('FDD32', 17.7), ('FDD33', 12.85), ('FDD34', 7.945), ('FDD35', 12.15), ('FDD36', 13.3), ('FDD38', 16.75), ('FDD39', 16.7), ('FDD40', 20.25), ('FDD41', 6.765), ('FDD44', 8.05), ('FDD45', 8.615), ('FDD46', 6.035), ('FDD47', 7.6), ('FDD48', 10.395), ('FDD50', 18.85), ('FDD51', 11.15), ('FDD52', 18.25), ('FDD53', 16.2), ('FDD56', 15.2), ('FDD57', 18.1), ('FDD58', 7.76), ('FDD59', 10.5), ('FDE02', 8.71), ('FDE04', 19.75), ('FDE05', 10.895), ('FDE08', 18.2), ('FDE09', 8.775), ('FDE10', 6.67), ('FDE11', 17.7), ('FDE14', 13.65), ('FDE16', 8.895), ('FDE17', 20.1), ('FDE20', 11.35), ('FDE21', 12.8), ('FDE22', 9.695), ('FDE23', 17.6), ('FDE24', 14.85), ('FDE26', 9.3), ('FDE28', 9.5), ('FDE29', 8.905), ('FDE32', 20.7), ('FDE33', 19.35), ('FDE34', 9.195), ('FDE35', 7.06), ('FDE36', 5.26), ('FDE39', 7.89), ('FDE40', 15.6), ('FDE41', 9.195), ('FDE44', 14.65), ('FDE45', 12.1), ('FDE46', 18.6), ('FDE47', 14.15), ('FDE50', 19.7), ('FDE51', 5.925), ('FDE53', 10.895), ('FDE56', 17.25), ('FDE57', 9.6), ('FDE58', 18.5), ('FDE59', 12.15), ('FDF02', 16.2), ('FDF04', 17.5), ('FDF05', 17.5), ('FDF08', 14.3), ('FDF09', 6.215), ('FDF10', 15.5), ('FDF11', 10.195), ('FDF12', 8.235), ('FDF14', 7.55), ('FDF16', 7.3), ('FDF17', 5.19), ('FDF20', 12.85), ('FDF21', 10.3), ('FDF22', 6.865), ('FDF24', 15.5), ('FDF26', 6.825), ('FDF28', 15.7), ('FDF29', 15.1), ('FDF32', 16.35), ('FDF33', 7.97), ('FDF34', 9.3), ('FDF35', 15.0), ('FDF38', 11.8), ('FDF39', 14.85), ('FDF40', 20.25), ('FDF41', 12.15), ('FDF44', 7.17), ('FDF45', 18.2), ('FDF46', 7.07), ('FDF47', 20.85), ('FDF50', 4.905), ('FDF52', 9.3), ('FDF53', 20.75), ('FDF56', 16.7), ('FDF57', 14.5), ('FDF58', 13.3), ('FDF59', 12.5), ('FDG02', 7.855), ('FDG04', 13.1), ('FDG05', 11.0), ('FDG08', 13.15), ('FDG09', 20.6), ('FDG10', 6.63), ('FDG14', 9.0), ('FDG16', 15.25), ('FDG17', 6.865), ('FDG20', 15.5), ('FDG21', 17.35), ('FDG22', 17.6), ('FDG24', 7.975), ('FDG26', 18.85), ('FDG28', 9.285), ('FDG29', 17.6), ('FDG31', 12.15), ('FDG32', 19.85), ('FDG33', 5.365), ('FDG34', 11.5), ('FDG35', 21.2), ('FDG38', 8.975), ('FDG40', 13.65), ('FDG41', 8.84), ('FDG44', 6.13), ('FDG45', 8.1), ('FDG46', 8.63), ('FDG47', 12.8), ('FDG50', 7.405), ('FDG52', 13.65), ('FDG53', 10.0), ('FDG56', 13.3), ('FDG57', 14.7), ('FDG58', 10.695), ('FDG59', 15.85), ('FDG60', 20.35), ('FDH02', 7.27), ('FDH04', 6.115), ('FDH05', 14.35), ('FDH08', 7.51), ('FDH09', 12.6), ('FDH10', 21.0), ('FDH12', 9.6), ('FDH14', 17.1), ('FDH16', 10.5), ('FDH17', 16.2), ('FDH19', 19.35), ('FDH20', 16.1), ('FDH21', 10.395), ('FDH22', 6.405), ('FDH24', 20.7), ('FDH26', 19.25), ('FDH27', 7.075), ('FDH28', 15.85), ('FDH31', 12.0), ('FDH32', 12.8), ('FDH33', 12.85), ('FDH34', 8.63), ('FDH35', 18.25), ('FDH38', 6.425), ('FDH40', 11.6), ('FDH41', 9.0), ('FDH44', 19.1), ('FDH45', 15.1), ('FDH46', 6.935), ('FDH47', 13.5), ('FDH48', 13.5), ('FDH50', 15.0), ('FDH52', 9.42), ('FDH53', 20.5), ('FDH56', 9.8), ('FDH57', 10.895), ('FDH58', 12.3), ('FDH60', 19.7), ('FDI02', 15.7), ('FDI04', 13.65), ('FDI05', 8.35), ('FDI07', 12.35), ('FDI08', 18.2), ('FDI09', 20.75), ('FDI10', 8.51), ('FDI12', 9.395), ('FDI14', 14.1), ('FDI15', 13.8), ('FDI16', 14.0), ('FDI19', 15.1), ('FDI20', 19.1), ('FDI21', 5.59), ('FDI22', 12.6), ('FDI24', 10.3), ('FDI26', 5.94), ('FDI27', 8.71), ('FDI28', 14.3), ('FDI32', 17.7), ('FDI33', 16.5), ('FDI34', 10.65), ('FDI35', 14.0), ('FDI36', 12.5), ('FDI38', 13.35), ('FDI40', 11.5), ('FDI41', 18.5), ('FDI44', 16.1), ('FDI45', 13.1), ('FDI46', 9.5), ('FDI48', 11.85), ('FDI50', 8.42), ('FDI52', 18.7), ('FDI53', 8.895), ('FDI56', 7.325), ('FDI57', 19.85), ('FDI58', 7.64), ('FDI60', 7.22), ('FDJ02', 17.2), ('FDJ03', 12.35), ('FDJ04', 18.0), ('FDJ07', 7.26), ('FDJ08', 11.1), ('FDJ09', 15.0), ('FDJ10', 5.095), ('FDJ12', 8.895), ('FDJ14', 10.3), ('FDJ15', 11.35), ('FDJ16', 9.195), ('FDJ20', 20.7), ('FDJ21', 16.7), ('FDJ22', 18.75), ('FDJ26', 15.3), ('FDJ27', 17.7), ('FDJ28', 12.3), ('FDJ32', 10.695), ('FDJ33', 8.895), ('FDJ34', 11.8), ('FDJ36', 14.5), ('FDJ38', 8.6), ('FDJ40', 13.6), ('FDJ41', 6.85), ('FDJ44', 12.3), ('FDJ45', 17.75), ('FDJ46', 11.1), ('FDJ48', 11.3), ('FDJ50', 8.645), ('FDJ52', 7.145), ('FDJ53', 10.5), ('FDJ55', 12.8), ('FDJ56', 8.985), ('FDJ57', 7.42), ('FDJ58', 15.6), ('FDJ60', 19.35), ('FDK02', 12.5), ('FDK03', 12.6), ('FDK04', 7.36), ('FDK08', 9.195), ('FDK09', 15.2), ('FDK10', 5.785), ('FDK14', 6.98), ('FDK15', 10.8), ('FDK16', 9.065), ('FDK20', 12.6), ('FDK21', 7.905), ('FDK22', 9.8), ('FDK24', 9.195), ('FDK25', 11.6), ('FDK26', 5.46), ('FDK27', 11.0), ('FDK28', 5.695), ('FDK32', 16.25), ('FDK33', 17.85), ('FDK34', 13.35), ('FDK36', 7.09), ('FDK38', 6.65), ('FDK40', 7.035), ('FDK41', 14.3), ('FDK43', 9.8), ('FDK44', 16.6), ('FDK45', 11.65), ('FDK46', 9.6), ('FDK48', 7.445), ('FDK50', 7.96), ('FDK51', 19.85), ('FDK52', 18.25), ('FDK55', 18.5), ('FDK56', 9.695), ('FDK58', 11.35), ('FDK60', 16.5), ('FDL02', 20.0), ('FDL03', 19.25), ('FDL04', 19.0), ('FDL08', 10.8), ('FDL09', 19.6), ('FDL10', 8.395), ('FDL12', 15.85), ('FDL13', 13.85), ('FDL14', 8.115), ('FDL15', 17.85), ('FDL16', 12.85), ('FDL20', 17.1), ('FDL21', 15.85), ('FDL22', 16.85), ('FDL24', 10.3), ('FDL25', 6.92), ('FDL26', 18.0), ('FDL27', 6.17), ('FDL28', 10.0), ('FDL32', 15.7), ('FDL33', 7.235), ('FDL34', 16.0), ('FDL36', 15.1), ('FDL38', 13.8), ('FDL39', 16.1), ('FDL40', 17.7), ('FDL43', 10.1), ('FDL44', 18.25), ('FDL45', 15.6), ('FDL46', 20.35), ('FDL48', 19.35), ('FDL50', 12.15), ('FDL51', 20.7), ('FDL52', 6.635), ('FDL56', 14.1), ('FDL57', 15.1), ('FDL58', 5.78), ('FDM01', 7.895), ('FDM02', 12.5), ('FDM03', 12.65), ('FDM04', 9.195), ('FDM08', 10.1), ('FDM09', 11.15), ('FDM10', 18.25), ('FDM12', 16.7), ('FDM13', 6.425), ('FDM14', 13.8), ('FDM15', 11.8), ('FDM20', 10.0), ('FDM21', 20.2), ('FDM22', 14.0), ('FDM24', 6.135), ('FDM25', 10.695), ('FDM27', 12.35), ('FDM28', 15.7), ('FDM32', 20.5), ('FDM33', 15.6), ('FDM34', 19.0), ('FDM36', 11.65), ('FDM38', 5.885), ('FDM39', 6.42), ('FDM40', 10.195), ('FDM44', 12.5), ('FDM45', 8.655), ('FDM46', 7.365), ('FDM50', 13.0), ('FDM51', 11.8), ('FDM52', 15.1), ('FDM56', 16.7), ('FDM57', 11.65), ('FDM58', 16.85), ('FDM60', 10.8), ('FDN01', 8.895), ('FDN02', 16.5), ('FDN03', 9.8), ('FDN04', 11.8), ('FDN08', 7.72), ('FDN09', 14.15), ('FDN10', 11.5), ('FDN12', 15.6), ('FDN13', 18.6), ('FDN15', 17.5), ('FDN16', 12.6), ('FDN20', 19.35), ('FDN21', 18.6), ('FDN22', 18.85), ('FDN23', 6.575), ('FDN24', 14.1), ('FDN25', 7.895), ('FDN27', 20.85), ('FDN28', 5.88), ('FDN31', 11.5), ('FDN32', 17.5), ('FDN33', 6.305), ('FDN34', 15.6), ('FDN38', 6.615), ('FDN39', 19.35), ('FDN40', 5.88), ('FDN44', 13.15), ('FDN45', 19.35), ('FDN46', 7.21), ('FDN48', 13.35), ('FDN49', 17.25), ('FDN50', 16.85), ('FDN51', 17.85), ('FDN56', 5.46), ('FDN57', 18.25), ('FDN58', 13.8), ('FDN60', 15.1), ('FDO01', 21.1), ('FDO03', 10.395), ('FDO04', 16.6), ('FDO08', 11.1), ('FDO09', 13.5), ('FDO10', 13.65), ('FDO11', 8.0), ('FDO12', 15.75), ('FDO13', 7.865), ('FDO15', 16.75), ('FDO16', 5.48), ('FDO19', 17.7), ('FDO20', 12.85), ('FDO21', 11.6), ('FDO22', 13.5), ('FDO23', 17.85), ('FDO24', 11.1), ('FDO25', 6.3), ('FDO27', 6.175), ('FDO31', 6.76), ('FDO32', 6.36), ('FDO33', 14.75), ('FDO34', 17.7), ('FDO36', 19.7), ('FDO37', 8.06), ('FDO38', 17.25), ('FDO39', 6.985), ('FDO40', 17.1), ('FDO44', 12.6), ('FDO45', 13.15), ('FDO46', 9.6), ('FDO48', 15.0), ('FDO49', 10.6), ('FDO50', 16.25), ('FDO51', 6.785), ('FDO52', 11.6), ('FDO56', 10.195), ('FDO57', 20.75), ('FDO58', 19.6), ('FDO60', 20.0), ('FDP01', 20.75), ('FDP03', 5.15), ('FDP04', 15.35), ('FDP07', 18.2), ('FDP08', 20.5), ('FDP09', 19.75), ('FDP10', 19.0), ('FDP11', 15.85), ('FDP12', 9.8), ('FDP13', 8.1), ('FDP15', 15.2), ('FDP16', 18.6), ('FDP19', 11.5), ('FDP20', 19.85), ('FDP21', 7.42), ('FDP22', 14.65), ('FDP23', 6.71), ('FDP24', 20.6), ('FDP25', 15.2), ('FDP26', 7.785), ('FDP27', 8.155), ('FDP28', 13.65), ('FDP31', 21.1), ('FDP32', 6.65), ('FDP33', 18.7), ('FDP34', 12.85), ('FDP36', 10.395), ('FDP37', 15.6), ('FDP38', 10.1), ('FDP39', 12.65), ('FDP40', 4.555), ('FDP44', 16.5), ('FDP45', 15.7), ('FDP46', 15.35), ('FDP48', 7.52), ('FDP49', 9.0), ('FDP51', 13.85), ('FDP52', 18.7), ('FDP56', 8.185), ('FDP57', 17.5), ('FDP58', 11.1), ('FDP59', 20.85), ('FDP60', 17.35), ('FDQ01', 19.7), ('FDQ03', 15.0), ('FDQ04', 6.4), ('FDQ07', 15.1), ('FDQ08', 15.7), ('FDQ09', 7.235), ('FDQ10', 12.85), ('FDQ11', 5.695), ('FDQ12', 12.65), ('FDQ13', 11.1), ('FDQ14', 9.27), ('FDQ15', 20.35), ('FDQ16', 19.7), ('FDQ19', 7.35), ('FDQ20', 8.325), ('FDQ21', 21.25), ('FDQ22', 16.75), ('FDQ23', 6.55), ('FDQ24', 15.7), ('FDQ25', 8.63), ('FDQ26', 13.5), ('FDQ27', 5.19), ('FDQ28', 14.0), ('FDQ31', 5.785), ('FDQ32', 17.85), ('FDQ33', 13.35), ('FDQ34', 10.85), ('FDQ36', 7.855), ('FDQ37', 20.75), ('FDQ39', 14.8), ('FDQ40', 11.1), ('FDQ44', 20.5), ('FDQ45', 9.5), ('FDQ46', 7.51), ('FDQ47', 7.155), ('FDQ48', 14.3), ('FDQ49', 20.2), ('FDQ51', 16.0), ('FDQ52', 17.0), ('FDQ55', 13.65), ('FDQ56', 6.59), ('FDQ57', 7.275), ('FDQ58', 7.315), ('FDQ59', 9.8), ('FDR01', 5.405), ('FDR02', 16.7), ('FDR03', 15.7), ('FDR04', 7.075), ('FDR07', 21.35), ('FDR08', 18.7), ('FDR09', 18.25), ('FDR10', 17.6), ('FDR11', 10.5), ('FDR12', 12.6), ('FDR13', 9.895), ('FDR14', 11.65), ('FDR15', 9.3), ('FDR16', 5.845), ('FDR19', 13.5), ('FDR20', 20.0), ('FDR21', 19.7), ('FDR22', 19.35), ('FDR23', 15.85), ('FDR24', 17.35), ('FDR25', 17.0), ('FDR26', 20.7), ('FDR27', 15.1), ('FDR28', 13.85), ('FDR31', 6.46), ('FDR32', 6.78), ('FDR33', 7.31), ('FDR34', 17.0), ('FDR35', 12.5), ('FDR36', 6.715), ('FDR37', 16.5), ('FDR39', 20.35), ('FDR40', 9.1), ('FDR43', 18.2), ('FDR44', 6.11), ('FDR45', 10.8), ('FDR46', 16.85), ('FDR47', 17.85), ('FDR48', 11.65), ('FDR49', 8.71), ('FDR51', 9.035), ('FDR52', 12.65), ('FDR55', 12.15), ('FDR56', 15.5), ('FDR57', 5.675), ('FDR58', 6.675), ('FDR59', 14.5), ('FDR60', 14.3), ('FDS01', 11.6), ('FDS02', 10.195), ('FDS03', 7.825), ('FDS04', 10.195), ('FDS07', 12.35), ('FDS08', 5.735), ('FDS10', 19.2), ('FDS11', 7.05), ('FDS12', 9.1), ('FDS13', 6.465), ('FDS14', 7.285), ('FDS15', 9.195), ('FDS16', 15.15), ('FDS19', 13.8), ('FDS20', 8.85), ('FDS21', 19.85), ('FDS22', 16.85), ('FDS23', 4.635), ('FDS24', 20.85), ('FDS25', 6.885), ('FDS26', 20.35), ('FDS27', 10.195), ('FDS28', 8.18), ('FDS31', 13.1), ('FDS32', 17.75), ('FDS33', 6.67), ('FDS34', 19.35), ('FDS35', 9.3), ('FDS36', 8.38), ('FDS37', 7.655), ('FDS39', 6.895), ('FDS40', 15.35), ('FDS43', 11.65), ('FDS44', 12.65), ('FDS45', 5.175), ('FDS46', 17.6), ('FDS47', 16.75), ('FDS48', 15.15), ('FDS49', 9.0), ('FDS50', 17.0), ('FDS51', 13.35), ('FDS52', 8.89), ('FDS55', 7.02), ('FDS56', 5.785), ('FDS57', 15.5), ('FDS58', 9.285), ('FDS59', 14.8), ('FDS60', 20.85), ('FDT01', 13.65), ('FDT02', 12.6), ('FDT03', 21.25), ('FDT04', 17.25), ('FDT07', 5.82), ('FDT08', 13.65), ('FDT09', 15.15), ('FDT10', 16.7), ('FDT11', 5.94), ('FDT12', 6.215), ('FDT13', 14.85), ('FDT14', 10.695), ('FDT15', 12.15), ('FDT16', 9.895), ('FDT19', 7.59), ('FDT20', 10.5), ('FDT21', 7.42), ('FDT22', 10.395), ('FDT23', 7.72), ('FDT24', 12.35), ('FDT25', 7.5), ('FDT26', 18.85), ('FDT27', 11.395), ('FDT28', 13.3), ('FDT31', 19.75), ('FDT32', 19.0), ('FDT33', 7.81), ('FDT34', 9.3), ('FDT35', 19.85), ('FDT36', 12.3), ('FDT37', 14.15), ('FDT39', 6.26), ('FDT40', 5.985), ('FDT43', 16.35), ('FDT44', 16.6), ('FDT45', 15.85), ('FDT46', 11.35), ('FDT48', 4.92), ('FDT49', 7.0), ('FDT50', 6.75), ('FDT51', 11.65), ('FDT52', 9.695), ('FDT55', 13.6), ('FDT56', 16.0), ('FDT57', 15.2), ('FDT58', 9.0), ('FDT59', 13.65), ('FDT60', 12.0), ('FDU01', 20.25), ('FDU02', 13.35), ('FDU03', 18.7), ('FDU04', 7.93), ('FDU07', 11.1), ('FDU08', 10.3), ('FDU10', 10.1), ('FDU11', 4.785), ('FDU12', 15.5), ('FDU13', 8.355), ('FDU14', 17.75), ('FDU15', 13.65), ('FDU16', 19.25), ('FDU19', 8.77), ('FDU20', 19.35), ('FDU21', 11.8), ('FDU22', 12.35), ('FDU23', 12.15), ('FDU24', 6.78), ('FDU25', 12.35), ('FDU26', 16.7), ('FDU27', 18.6), ('FDU28', 19.2), ('FDU31', 10.5), ('FDU32', 8.785), ('FDU33', 7.63), ('FDU34', 18.25), ('FDU35', 6.44), ('FDU36', 6.15), ('FDU37', 9.5), ('FDU38', 10.8), ('FDU39', 18.85), ('FDU40', 20.85), ('FDU43', 19.35), ('FDU44', 12.15), ('FDU45', 15.6), ('FDU46', 10.3), ('FDU47', 12.8), ('FDU48', 18.85), ('FDU49', 19.5), ('FDU50', 5.75), ('FDU51', 20.2), ('FDU52', 7.56), ('FDU55', 16.2), ('FDU56', 16.85), ('FDU57', 8.27), ('FDU58', 6.61), ('FDU59', 5.78), ('FDU60', 20.0), ('FDV01', 19.2), ('FDV02', 16.75), ('FDV03', 17.6), ('FDV04', 7.825), ('FDV07', 9.5), ('FDV08', 7.35), ('FDV09', 12.1), ('FDV10', 7.645), ('FDV11', 9.1), ('FDV12', 16.7), ('FDV13', 17.35), ('FDV14', 19.85), ('FDV15', 10.3), ('FDV16', 7.75), ('FDV19', 14.85), ('FDV20', 20.2), ('FDV21', 11.5), ('FDV22', 14.85), ('FDV23', 11.0), ('FDV24', 5.635), ('FDV25', 5.905), ('FDV26', 20.25), ('FDV27', 7.97), ('FDV28', 16.1), ('FDV31', 9.8), ('FDV32', 7.785), ('FDV33', 9.6), ('FDV34', 10.695), ('FDV35', 19.5), ('FDV36', 18.7), ('FDV37', 13.0), ('FDV38', 19.25), ('FDV39', 11.3), ('FDV40', 17.35), ('FDV43', 16.0), ('FDV44', 8.365), ('FDV45', 16.75), ('FDV46', 18.2), ('FDV47', 17.1), ('FDV48', 9.195), ('FDV49', 10.0), ('FDV50', 14.3), ('FDV51', 16.35), ('FDV52', 20.7), ('FDV55', 17.75), ('FDV56', 16.1), ('FDV57', 15.25), ('FDV58', 20.85), ('FDV59', 13.35), ('FDV60', 20.2), ('FDW01', 14.5), ('FDW02', 4.805), ('FDW03', 5.63), ('FDW04', 8.985), ('FDW07', 18.0), ('FDW08', 12.1), ('FDW09', 13.65), ('FDW10', 21.2), ('FDW11', 12.6), ('FDW12', 8.315), ('FDW13', 8.5), ('FDW14', 8.3), ('FDW15', 15.35), ('FDW16', 17.35), ('FDW19', 12.35), ('FDW20', 20.75), ('FDW21', 5.34), ('FDW22', 9.695), ('FDW23', 5.765), ('FDW24', 6.8), ('FDW25', 5.175), ('FDW26', 11.8), ('FDW27', 5.86), ('FDW28', 18.25), ('FDW31', 11.35), ('FDW32', 18.35), ('FDW33', 9.395), ('FDW34', 9.6), ('FDW35', 10.6), ('FDW36', 11.15), ('FDW37', 19.2), ('FDW38', 5.325), ('FDW39', 6.69), ('FDW40', 14.0), ('FDW43', 20.1), ('FDW44', 9.5), ('FDW45', 18.0), ('FDW46', 13.0), ('FDW47', 15.0), ('FDW48', 18.0), ('FDW49', 19.5), ('FDW50', 13.1), ('FDW51', 6.155), ('FDW52', 14.0), ('FDW55', 12.6), ('FDW56', 7.68), ('FDW57', 8.31), ('FDW58', 20.75), ('FDW59', 13.15), ('FDW60', 5.44), ('FDX01', 10.1), ('FDX02', 16.0), ('FDX03', 15.85), ('FDX04', 19.6), ('FDX07', 19.2), ('FDX08', 12.85), ('FDX09', 9.0), ('FDX10', 6.385), ('FDX11', 16.0), ('FDX12', 18.2), ('FDX13', 7.725), ('FDX14', 13.1), ('FDX15', 17.2), ('FDX16', 17.85), ('FDX19', 19.1), ('FDX20', 7.365), ('FDX21', 7.05), ('FDX22', 6.785), ('FDX23', 6.445), ('FDX24', 8.355), ('FDX25', 16.7), ('FDX26', 17.7), ('FDX27', 20.7), ('FDX28', 6.325), ('FDX31', 20.35), ('FDX32', 15.1), ('FDX33', 9.195), ('FDX34', 6.195), ('FDX35', 5.035), ('FDX36', 9.695), ('FDX37', 16.2), ('FDX38', 10.5), ('FDX39', 14.3), ('FDX40', 12.85), ('FDX43', 5.655), ('FDX44', 9.3), ('FDX45', 16.75), ('FDX46', 12.3), ('FDX47', 6.55), ('FDX48', 17.75), ('FDX49', 4.615), ('FDX50', 20.1), ('FDX51', 9.5), ('FDX52', 11.5), ('FDX55', 15.1), ('FDX56', 17.1), ('FDX57', 17.25), ('FDX58', 13.15), ('FDX59', 10.195), ('FDX60', 14.35), ('FDY01', 11.8), ('FDY02', 8.945), ('FDY03', 17.6), ('FDY04', 17.7), ('FDY07', 11.8), ('FDY08', 9.395), ('FDY09', 15.6), ('FDY10', 17.6), ('FDY11', 6.71), ('FDY12', 9.8), ('FDY13', 12.1), ('FDY14', 10.3), ('FDY15', 18.25), ('FDY16', 18.35), ('FDY19', 19.75), ('FDY20', 12.5), ('FDY21', 15.1), ('FDY22', 16.5), ('FDY24', 4.88), ('FDY25', 12.0), ('FDY26', 20.6), ('FDY27', 6.38), ('FDY28', 7.47), ('FDY31', 5.98), ('FDY32', 7.605), ('FDY33', 14.5), ('FDY34', 10.5), ('FDY35', 17.6), ('FDY36', 12.3), ('FDY37', 17.0), ('FDY38', 13.6), ('FDY39', 5.305), ('FDY40', 15.5), ('FDY43', 14.85), ('FDY44', 14.15), ('FDY45', 17.5), ('FDY46', 18.6), ('FDY47', 8.6), ('FDY48', 14.0), ('FDY49', 17.2), ('FDY50', 5.8), ('FDY51', 12.5), ('FDY52', 6.365), ('FDY55', 16.75), ('FDY56', 16.35), ('FDY57', 20.2), ('FDY58', 11.65), ('FDY59', 8.195), ('FDY60', 10.5), ('FDZ01', 8.975), ('FDZ03', 13.65), ('FDZ04', 9.31), ('FDZ07', 15.1), ('FDZ08', 12.5), ('FDZ09', 17.6), ('FDZ10', 17.85), ('FDZ12', 9.17), ('FDZ13', 7.84), ('FDZ14', 7.71), ('FDZ15', 13.1), ('FDZ16', 16.85), ('FDZ19', 6.425), ('FDZ20', 16.1), ('FDZ21', 17.6), ('FDZ22', 9.395), ('FDZ23', 17.75), ('FDZ25', 15.7), ('FDZ26', 11.6), ('FDZ27', 7.935), ('FDZ28', 20.0), ('FDZ32', 7.785), ('FDZ33', 10.195), ('FDZ34', 6.695), ('FDZ35', 9.6), ('FDZ36', 6.035), ('FDZ37', 8.1), ('FDZ38', 17.6), ('FDZ39', 19.7), ('FDZ40', 8.935), ('FDZ43', 11.0), ('FDZ44', 8.185), ('FDZ45', 14.1), ('FDZ46', 7.485), ('FDZ47', 20.7), ('FDZ48', 17.75), ('FDZ49', 11.0), ('FDZ50', 12.8), ('FDZ51', 11.3), ('FDZ52', 19.2), ('FDZ55', 6.055), ('FDZ56', 16.25), ('FDZ57', 10.0), ('FDZ58', 17.85), ('FDZ59', 6.63), ('FDZ60', 20.5), ('NCA05', 20.75), ('NCA06', 20.5), ('NCA17', 20.6), ('NCA18', 10.1), ('NCA29', 10.5), ('NCA30', 19.0), ('NCA41', 16.75), ('NCA42', 6.965), ('NCA53', 11.395), ('NCA54', 16.5), ('NCB06', 17.6), ('NCB07', 19.2), ('NCB18', 19.6), ('NCB19', 6.525), ('NCB30', 14.6), ('NCB31', 6.235), ('NCB42', 11.8), ('NCB43', 20.2), ('NCB54', 8.76), ('NCB55', 15.7), ('NCC06', 19.0), ('NCC07', 19.6), ('NCC18', 19.1), ('NCC19', 6.57), ('NCC30', 16.6), ('NCC31', 8.02), ('NCC42', 15.0), ('NCC43', 7.39), ('NCC54', 17.75), ('NCC55', 10.695), ('NCD06', 13.0), ('NCD07', 9.1), ('NCD18', 16.0), ('NCD19', 8.93), ('NCD30', 19.7), ('NCD31', 12.1), ('NCD42', 16.5), ('NCD43', 8.85), ('NCD54', 21.1), ('NCD55', 14.0), ('NCE06', 5.825), ('NCE07', 8.18), ('NCE18', 10.0), ('NCE19', 8.97), ('NCE30', 16.0), ('NCE31', 7.67), ('NCE42', 21.1), ('NCE43', 12.5), ('NCE54', 20.7), ('NCE55', 8.92), ('NCF06', 6.235), ('NCF07', 9.0), ('NCF18', 18.35), ('NCF19', 13.0), ('NCF30', 17.0), ('NCF31', 9.13), ('NCF42', 17.35), ('NCF43', 8.51), ('NCF54', 18.0), ('NCF55', 6.675), ('NCG06', 16.35), ('NCG07', 12.3), ('NCG18', 15.3), ('NCG19', 20.25), ('NCG30', 20.2), ('NCG42', 19.2), ('NCG43', 20.2), ('NCG54', 12.1), ('NCG55', 16.25), ('NCH06', 12.3), ('NCH07', 13.15), ('NCH18', 9.3), ('NCH29', 5.51), ('NCH30', 17.1), ('NCH42', 6.86), ('NCH43', 8.42), ('NCH54', 13.5), ('NCH55', 16.35), ('NCI06', 11.3), ('NCI17', 8.645), ('NCI18', 18.35), ('NCI29', 8.6), ('NCI30', 20.25), ('NCI31', 20.0), ('NCI42', 18.75), ('NCI43', 19.85), ('NCI54', 15.2), ('NCI55', 18.6), ('NCJ05', 18.7), ('NCJ06', 20.1), ('NCJ17', 7.68), ('NCJ18', 12.35), ('NCJ19', 18.6), ('NCJ29', 10.6), ('NCJ30', 5.82), ('NCJ31', 19.2), ('NCJ42', 19.75), ('NCJ43', 6.635), ('NCJ54', 9.895), ('NCK05', 20.1), ('NCK06', 5.03), ('NCK07', 10.65), ('NCK17', 11.0), ('NCK18', 9.6), ('NCK19', 9.8), ('NCK29', 5.615), ('NCK30', 14.85), ('NCK31', 10.895), ('NCK42', 7.475), ('NCK53', 11.6), ('NCK54', 12.15), ('NCL05', 19.6), ('NCL06', 14.65), ('NCL07', 13.85), ('NCL17', 7.39), ('NCL18', 18.85), ('NCL19', 15.35), ('NCL29', 9.695), ('NCL30', 18.1), ('NCL31', 7.39), ('NCL41', 12.35), ('NCL42', 18.85), ('NCL53', 7.5), ('NCL54', 12.6), ('NCL55', 12.15), ('NCM05', 6.825), ('NCM06', 7.475), ('NCM07', 9.395), ('NCM17', 7.93), ('NCM18', 13.0), ('NCM19', 12.65), ('NCM26', 20.5), ('NCM29', 11.5), ('NCM30', 19.1), ('NCM31', 6.095), ('NCM41', 16.5), ('NCM42', 6.13), ('NCM43', 14.5), ('NCM53', 18.75), ('NCM54', 17.7), ('NCM55', 15.6), ('NCN05', 8.235), ('NCN06', 8.39), ('NCN07', 18.5), ('NCN14', 19.1), ('NCN17', 11.0), ('NCN18', 8.895), ('NCN19', 13.1), ('NCN26', 10.85), ('NCN29', 15.2), ('NCN30', 16.35), ('NCN41', 17.0), ('NCN42', 20.25), ('NCN43', 12.15), ('NCN53', 5.175), ('NCN54', 20.35), ('NCN55', 14.6), ('NCO02', 11.15), ('NCO05', 7.27), ('NCO06', 19.25), ('NCO07', 9.06), ('NCO14', 9.6), ('NCO17', 10.0), ('NCO18', 13.15), ('NCO26', 7.235), ('NCO29', 11.15), ('NCO30', 19.5), ('NCO41', 12.5), ('NCO42', 21.25), ('NCO43', 5.5), ('NCO53', 16.2), ('NCO54', 19.5), ('NCO55', 12.8), ('NCP02', 7.105), ('NCP05', 19.6), ('NCP06', 20.7), ('NCP14', 8.275), ('NCP17', 19.35), ('NCP18', 12.15), ('NCP29', 8.42), ('NCP30', 20.5), ('NCP42', 8.51), ('NCP43', 17.75), ('NCP50', 17.35), ('NCP53', 14.75), ('NCP54', 15.35), ('NCP55', 14.65), ('NCQ02', 12.6), ('NCQ05', 11.395), ('NCQ06', 13.0), ('NCQ17', 10.3), ('NCQ18', 15.75), ('NCQ29', 12.0), ('NCQ30', 7.725), ('NCQ38', 16.35), ('NCQ41', 14.8), ('NCQ42', 20.35), ('NCQ43', 17.75), ('NCQ50', 18.75), ('NCQ53', 17.6), ('NCQ54', 17.7), ('NCR05', 10.1), ('NCR06', 12.5), ('NCR17', 9.8), ('NCR18', 15.85), ('NCR29', 7.565), ('NCR30', 20.6), ('NCR38', 17.25), ('NCR41', 17.85), ('NCR42', 9.105), ('NCR50', 20.2), ('NCR53', 12.15), ('NCR54', 16.35), ('NCS05', 11.5), ('NCS06', 7.935), ('NCS17', 18.6), ('NCS18', 12.65), ('NCS29', 9.0), ('NCS30', 5.945), ('NCS38', 8.6), ('NCS41', 12.85), ('NCS42', 8.6), ('NCS53', 14.5), ('NCS54', 13.6), ('NCT05', 10.895), ('NCT06', 17.1), ('NCT17', 10.8), ('NCT18', 14.6), ('NCT29', 12.6), ('NCT30', 9.1), ('NCT41', 15.7), ('NCT42', 5.88), ('NCT54', 8.695), ('NCU05', 11.8), ('NCU06', 17.6), ('NCU17', 5.32), ('NCU18', 15.1), ('NCU29', 7.685), ('NCU30', 5.11), ('NCU41', 18.85), ('NCU42', 9.0), ('NCU53', 5.485), ('NCU54', 8.88), ('NCV05', 10.1), ('NCV06', 11.3), ('NCV17', 18.85), ('NCV18', 6.775), ('NCV29', 11.8), ('NCV30', 20.2), ('NCV41', 14.35), ('NCV42', 6.26), ('NCV53', 8.27), ('NCV54', 11.1), ('NCW05', 20.25), ('NCW06', 16.2), ('NCW17', 18.0), ('NCW18', 15.1), ('NCW29', 14.0), ('NCW30', 5.21), ('NCW41', 18.0), ('NCW42', 18.2), ('NCW53', 18.35), ('NCW54', 7.5), ('NCX05', 15.2), ('NCX06', 17.6), ('NCX17', 21.25), ('NCX18', 14.15), ('NCX29', 10.0), ('NCX30', 16.7), ('NCX41', 19.0), ('NCX42', 6.36), ('NCX53', 20.1), ('NCX54', 9.195), ('NCY05', 13.5), ('NCY06', 15.25), ('NCY17', 18.2), ('NCY18', 7.285), ('NCY29', 13.65), ('NCY30', 20.25), ('NCY41', 16.75), ('NCY42', 6.38), ('NCY53', 20.0), ('NCY54', 8.43), ('NCZ05', 8.485), ('NCZ06', 19.6), ('NCZ17', 12.15), ('NCZ18', 7.825), ('NCZ29', 15.0), ('NCZ30', 6.59), ('NCZ41', 19.85), ('NCZ42', 10.5), ('NCZ53', 9.6), ('NCZ54', 14.65)])"
      ]
     },
     "execution_count": 20,
     "metadata": {},
     "output_type": "execute_result"
    }
   ],
   "source": [
    "Item_ID_Weight=X_train.pivot_table(values='Item_Weight',index='Item_Identifier',aggfunc='median').reset_index()\n",
    "Item_ID_Weight_map=dict(zip(Item_ID_Weight['Item_Identifier'],Item_ID_Weight['Item_Weight']))\n",
    "Item_ID_Weight_map.items()"
   ]
  },
  {
   "cell_type": "code",
   "execution_count": 21,
   "metadata": {},
   "outputs": [
    {
     "data": {
      "text/plain": [
       "dict_items([('Baking Goods', 11.925), ('Breads', 10.6), ('Breakfast', 10.695), ('Canned', 12.35), ('Dairy', 13.35), ('Frozen Foods', 12.85), ('Fruits and Vegetables', 12.85), ('Hard Drinks', 9.695), ('Health and Hygiene', 12.35), ('Household', 13.15), ('Meat', 12.65), ('Others', 14.5), ('Seafood', 11.65), ('Snack Foods', 12.925), ('Soft Drinks', 11.6), ('Starchy Foods', 13.5)])"
      ]
     },
     "execution_count": 21,
     "metadata": {},
     "output_type": "execute_result"
    }
   ],
   "source": [
    "Item_type_Weight=X_train_N.pivot_table(values='Item_Weight',index='Item_Type',aggfunc='median').reset_index()\n",
    "\n",
    "Item_type_Weight_map=dict(zip(Item_type_Weight['Item_Type'],Item_type_Weight['Item_Weight']))\n",
    "Item_type_Weight_map.items()"
   ]
  },
  {
   "cell_type": "code",
   "execution_count": 22,
   "metadata": {},
   "outputs": [],
   "source": [
    "def impute_item_weight(data_frame):\n",
    "    data_frame.loc[:,'Item_Weight']= data_frame.loc[:,'Item_Weight'].fillna(data_frame.loc[:,'Item_Identifier'].map(Item_ID_Weight_map))\n",
    "    data_frame.loc[:,'Item_Weight']= data_frame.loc[:,'Item_Weight'].fillna(data_frame.loc[:,'Item_Type'].map(Item_ID_Weight_map))\n",
    "    return data_frame"
   ]
  },
  {
   "cell_type": "code",
   "execution_count": 23,
   "metadata": {},
   "outputs": [],
   "source": [
    "X_train_N=impute_item_weight(X_train_N)"
   ]
  },
  {
   "cell_type": "code",
   "execution_count": 24,
   "metadata": {},
   "outputs": [
    {
     "data": {
      "text/plain": [
       "Item_Identifier                 0\n",
       "Item_Weight                    16\n",
       "Item_Fat_Content                0\n",
       "Item_Visibility                 0\n",
       "Item_Type                       0\n",
       "Item_MRP                        0\n",
       "Outlet_Identifier               0\n",
       "Outlet_Establishment_Year       0\n",
       "Outlet_Size                  1935\n",
       "Outlet_Location_Type            0\n",
       "Outlet_Type                     0\n",
       "dtype: int64"
      ]
     },
     "execution_count": 24,
     "metadata": {},
     "output_type": "execute_result"
    }
   ],
   "source": [
    "X_train_N.isnull().sum()"
   ]
  },
  {
   "cell_type": "code",
   "execution_count": 25,
   "metadata": {},
   "outputs": [
    {
     "data": {
      "text/plain": [
       "Outlet_Type        Outlet_Size\n",
       "Grocery Store      Small           413\n",
       "Supermarket Type1  High            744\n",
       "                   Medium          720\n",
       "                   Small          1493\n",
       "Supermarket Type2  Medium          752\n",
       "Supermarket Type3  Medium          761\n",
       "dtype: int64"
      ]
     },
     "execution_count": 25,
     "metadata": {},
     "output_type": "execute_result"
    }
   ],
   "source": [
    "X_train_N.groupby(by=['Outlet_Type','Outlet_Size']).size()"
   ]
  },
  {
   "cell_type": "code",
   "execution_count": 26,
   "metadata": {},
   "outputs": [
    {
     "data": {
      "text/html": [
       "<div>\n",
       "<style scoped>\n",
       "    .dataframe tbody tr th:only-of-type {\n",
       "        vertical-align: middle;\n",
       "    }\n",
       "\n",
       "    .dataframe tbody tr th {\n",
       "        vertical-align: top;\n",
       "    }\n",
       "\n",
       "    .dataframe thead th {\n",
       "        text-align: right;\n",
       "    }\n",
       "</style>\n",
       "<table border=\"1\" class=\"dataframe\">\n",
       "  <thead>\n",
       "    <tr style=\"text-align: right;\">\n",
       "      <th></th>\n",
       "      <th>Item_Identifier</th>\n",
       "      <th>Item_Weight</th>\n",
       "      <th>Item_Fat_Content</th>\n",
       "      <th>Item_Visibility</th>\n",
       "      <th>Item_Type</th>\n",
       "      <th>Item_MRP</th>\n",
       "      <th>Outlet_Identifier</th>\n",
       "      <th>Outlet_Establishment_Year</th>\n",
       "      <th>Outlet_Location_Type</th>\n",
       "      <th>Outlet_Type</th>\n",
       "      <th>Item_Outlet_Sales</th>\n",
       "    </tr>\n",
       "  </thead>\n",
       "  <tbody>\n",
       "    <tr>\n",
       "      <th>0</th>\n",
       "      <td>FDA15</td>\n",
       "      <td>9.300</td>\n",
       "      <td>Low Fat</td>\n",
       "      <td>0.016047</td>\n",
       "      <td>Dairy</td>\n",
       "      <td>249.8092</td>\n",
       "      <td>OUT049</td>\n",
       "      <td>1999</td>\n",
       "      <td>Tier 1</td>\n",
       "      <td>Supermarket Type1</td>\n",
       "      <td>3735.1380</td>\n",
       "    </tr>\n",
       "    <tr>\n",
       "      <th>1</th>\n",
       "      <td>DRC01</td>\n",
       "      <td>5.920</td>\n",
       "      <td>Regular</td>\n",
       "      <td>0.019278</td>\n",
       "      <td>Soft Drinks</td>\n",
       "      <td>48.2692</td>\n",
       "      <td>OUT018</td>\n",
       "      <td>2009</td>\n",
       "      <td>Tier 3</td>\n",
       "      <td>Supermarket Type2</td>\n",
       "      <td>443.4228</td>\n",
       "    </tr>\n",
       "    <tr>\n",
       "      <th>2</th>\n",
       "      <td>FDN15</td>\n",
       "      <td>17.500</td>\n",
       "      <td>Low Fat</td>\n",
       "      <td>0.016760</td>\n",
       "      <td>Meat</td>\n",
       "      <td>141.6180</td>\n",
       "      <td>OUT049</td>\n",
       "      <td>1999</td>\n",
       "      <td>Tier 1</td>\n",
       "      <td>Supermarket Type1</td>\n",
       "      <td>2097.2700</td>\n",
       "    </tr>\n",
       "    <tr>\n",
       "      <th>3</th>\n",
       "      <td>FDX07</td>\n",
       "      <td>19.200</td>\n",
       "      <td>Regular</td>\n",
       "      <td>0.000000</td>\n",
       "      <td>Fruits and Vegetables</td>\n",
       "      <td>182.0950</td>\n",
       "      <td>OUT010</td>\n",
       "      <td>1998</td>\n",
       "      <td>Tier 3</td>\n",
       "      <td>Grocery Store</td>\n",
       "      <td>732.3800</td>\n",
       "    </tr>\n",
       "    <tr>\n",
       "      <th>4</th>\n",
       "      <td>NCD19</td>\n",
       "      <td>8.930</td>\n",
       "      <td>Low Fat</td>\n",
       "      <td>0.000000</td>\n",
       "      <td>Household</td>\n",
       "      <td>53.8614</td>\n",
       "      <td>OUT013</td>\n",
       "      <td>1987</td>\n",
       "      <td>Tier 3</td>\n",
       "      <td>Supermarket Type1</td>\n",
       "      <td>994.7052</td>\n",
       "    </tr>\n",
       "    <tr>\n",
       "      <th>...</th>\n",
       "      <td>...</td>\n",
       "      <td>...</td>\n",
       "      <td>...</td>\n",
       "      <td>...</td>\n",
       "      <td>...</td>\n",
       "      <td>...</td>\n",
       "      <td>...</td>\n",
       "      <td>...</td>\n",
       "      <td>...</td>\n",
       "      <td>...</td>\n",
       "      <td>...</td>\n",
       "    </tr>\n",
       "    <tr>\n",
       "      <th>8518</th>\n",
       "      <td>FDF22</td>\n",
       "      <td>6.865</td>\n",
       "      <td>Low Fat</td>\n",
       "      <td>0.056783</td>\n",
       "      <td>Snack Foods</td>\n",
       "      <td>214.5218</td>\n",
       "      <td>OUT013</td>\n",
       "      <td>1987</td>\n",
       "      <td>Tier 3</td>\n",
       "      <td>Supermarket Type1</td>\n",
       "      <td>2778.3834</td>\n",
       "    </tr>\n",
       "    <tr>\n",
       "      <th>8519</th>\n",
       "      <td>FDS36</td>\n",
       "      <td>8.380</td>\n",
       "      <td>Regular</td>\n",
       "      <td>0.046982</td>\n",
       "      <td>Baking Goods</td>\n",
       "      <td>108.1570</td>\n",
       "      <td>OUT045</td>\n",
       "      <td>2002</td>\n",
       "      <td>Tier 2</td>\n",
       "      <td>Supermarket Type1</td>\n",
       "      <td>549.2850</td>\n",
       "    </tr>\n",
       "    <tr>\n",
       "      <th>8520</th>\n",
       "      <td>NCJ29</td>\n",
       "      <td>10.600</td>\n",
       "      <td>Low Fat</td>\n",
       "      <td>0.035186</td>\n",
       "      <td>Health and Hygiene</td>\n",
       "      <td>85.1224</td>\n",
       "      <td>OUT035</td>\n",
       "      <td>2004</td>\n",
       "      <td>Tier 2</td>\n",
       "      <td>Supermarket Type1</td>\n",
       "      <td>1193.1136</td>\n",
       "    </tr>\n",
       "    <tr>\n",
       "      <th>8521</th>\n",
       "      <td>FDN46</td>\n",
       "      <td>7.210</td>\n",
       "      <td>Regular</td>\n",
       "      <td>0.145221</td>\n",
       "      <td>Snack Foods</td>\n",
       "      <td>103.1332</td>\n",
       "      <td>OUT018</td>\n",
       "      <td>2009</td>\n",
       "      <td>Tier 3</td>\n",
       "      <td>Supermarket Type2</td>\n",
       "      <td>1845.5976</td>\n",
       "    </tr>\n",
       "    <tr>\n",
       "      <th>8522</th>\n",
       "      <td>DRG01</td>\n",
       "      <td>14.800</td>\n",
       "      <td>Low Fat</td>\n",
       "      <td>0.044878</td>\n",
       "      <td>Soft Drinks</td>\n",
       "      <td>75.4670</td>\n",
       "      <td>OUT046</td>\n",
       "      <td>1997</td>\n",
       "      <td>Tier 1</td>\n",
       "      <td>Supermarket Type1</td>\n",
       "      <td>765.6700</td>\n",
       "    </tr>\n",
       "  </tbody>\n",
       "</table>\n",
       "<p>8523 rows × 11 columns</p>\n",
       "</div>"
      ],
      "text/plain": [
       "     Item_Identifier  Item_Weight Item_Fat_Content  Item_Visibility  \\\n",
       "0              FDA15        9.300          Low Fat         0.016047   \n",
       "1              DRC01        5.920          Regular         0.019278   \n",
       "2              FDN15       17.500          Low Fat         0.016760   \n",
       "3              FDX07       19.200          Regular         0.000000   \n",
       "4              NCD19        8.930          Low Fat         0.000000   \n",
       "...              ...          ...              ...              ...   \n",
       "8518           FDF22        6.865          Low Fat         0.056783   \n",
       "8519           FDS36        8.380          Regular         0.046982   \n",
       "8520           NCJ29       10.600          Low Fat         0.035186   \n",
       "8521           FDN46        7.210          Regular         0.145221   \n",
       "8522           DRG01       14.800          Low Fat         0.044878   \n",
       "\n",
       "                  Item_Type  Item_MRP Outlet_Identifier  \\\n",
       "0                     Dairy  249.8092            OUT049   \n",
       "1               Soft Drinks   48.2692            OUT018   \n",
       "2                      Meat  141.6180            OUT049   \n",
       "3     Fruits and Vegetables  182.0950            OUT010   \n",
       "4                 Household   53.8614            OUT013   \n",
       "...                     ...       ...               ...   \n",
       "8518            Snack Foods  214.5218            OUT013   \n",
       "8519           Baking Goods  108.1570            OUT045   \n",
       "8520     Health and Hygiene   85.1224            OUT035   \n",
       "8521            Snack Foods  103.1332            OUT018   \n",
       "8522            Soft Drinks   75.4670            OUT046   \n",
       "\n",
       "      Outlet_Establishment_Year Outlet_Location_Type        Outlet_Type  \\\n",
       "0                          1999               Tier 1  Supermarket Type1   \n",
       "1                          2009               Tier 3  Supermarket Type2   \n",
       "2                          1999               Tier 1  Supermarket Type1   \n",
       "3                          1998               Tier 3      Grocery Store   \n",
       "4                          1987               Tier 3  Supermarket Type1   \n",
       "...                         ...                  ...                ...   \n",
       "8518                       1987               Tier 3  Supermarket Type1   \n",
       "8519                       2002               Tier 2  Supermarket Type1   \n",
       "8520                       2004               Tier 2  Supermarket Type1   \n",
       "8521                       2009               Tier 3  Supermarket Type2   \n",
       "8522                       1997               Tier 1  Supermarket Type1   \n",
       "\n",
       "      Item_Outlet_Sales  \n",
       "0             3735.1380  \n",
       "1              443.4228  \n",
       "2             2097.2700  \n",
       "3              732.3800  \n",
       "4              994.7052  \n",
       "...                 ...  \n",
       "8518          2778.3834  \n",
       "8519           549.2850  \n",
       "8520          1193.1136  \n",
       "8521          1845.5976  \n",
       "8522           765.6700  \n",
       "\n",
       "[8523 rows x 11 columns]"
      ]
     },
     "execution_count": 26,
     "metadata": {},
     "output_type": "execute_result"
    }
   ],
   "source": [
    "df.drop(['Outlet_Size'], axis=1)"
   ]
  },
  {
   "cell_type": "code",
   "execution_count": 27,
   "metadata": {},
   "outputs": [
    {
     "name": "stderr",
     "output_type": "stream",
     "text": [
      "C:\\Users\\91785\\AppData\\Local\\Temp\\ipykernel_20772\\1134722465.py:1: FutureWarning: The default value of numeric_only in DataFrame.corr is deprecated. In a future version, it will default to False. Select only valid columns or specify the value of numeric_only to silence this warning.\n",
      "  df.corr()\n"
     ]
    },
    {
     "data": {
      "text/html": [
       "<div>\n",
       "<style scoped>\n",
       "    .dataframe tbody tr th:only-of-type {\n",
       "        vertical-align: middle;\n",
       "    }\n",
       "\n",
       "    .dataframe tbody tr th {\n",
       "        vertical-align: top;\n",
       "    }\n",
       "\n",
       "    .dataframe thead th {\n",
       "        text-align: right;\n",
       "    }\n",
       "</style>\n",
       "<table border=\"1\" class=\"dataframe\">\n",
       "  <thead>\n",
       "    <tr style=\"text-align: right;\">\n",
       "      <th></th>\n",
       "      <th>Item_Weight</th>\n",
       "      <th>Item_Visibility</th>\n",
       "      <th>Item_MRP</th>\n",
       "      <th>Outlet_Establishment_Year</th>\n",
       "      <th>Item_Outlet_Sales</th>\n",
       "    </tr>\n",
       "  </thead>\n",
       "  <tbody>\n",
       "    <tr>\n",
       "      <th>Item_Weight</th>\n",
       "      <td>1.000000</td>\n",
       "      <td>-0.014048</td>\n",
       "      <td>0.027141</td>\n",
       "      <td>-0.011588</td>\n",
       "      <td>0.014123</td>\n",
       "    </tr>\n",
       "    <tr>\n",
       "      <th>Item_Visibility</th>\n",
       "      <td>-0.014048</td>\n",
       "      <td>1.000000</td>\n",
       "      <td>-0.001315</td>\n",
       "      <td>-0.074834</td>\n",
       "      <td>-0.128625</td>\n",
       "    </tr>\n",
       "    <tr>\n",
       "      <th>Item_MRP</th>\n",
       "      <td>0.027141</td>\n",
       "      <td>-0.001315</td>\n",
       "      <td>1.000000</td>\n",
       "      <td>0.005020</td>\n",
       "      <td>0.567574</td>\n",
       "    </tr>\n",
       "    <tr>\n",
       "      <th>Outlet_Establishment_Year</th>\n",
       "      <td>-0.011588</td>\n",
       "      <td>-0.074834</td>\n",
       "      <td>0.005020</td>\n",
       "      <td>1.000000</td>\n",
       "      <td>-0.049135</td>\n",
       "    </tr>\n",
       "    <tr>\n",
       "      <th>Item_Outlet_Sales</th>\n",
       "      <td>0.014123</td>\n",
       "      <td>-0.128625</td>\n",
       "      <td>0.567574</td>\n",
       "      <td>-0.049135</td>\n",
       "      <td>1.000000</td>\n",
       "    </tr>\n",
       "  </tbody>\n",
       "</table>\n",
       "</div>"
      ],
      "text/plain": [
       "                           Item_Weight  Item_Visibility  Item_MRP  \\\n",
       "Item_Weight                   1.000000        -0.014048  0.027141   \n",
       "Item_Visibility              -0.014048         1.000000 -0.001315   \n",
       "Item_MRP                      0.027141        -0.001315  1.000000   \n",
       "Outlet_Establishment_Year    -0.011588        -0.074834  0.005020   \n",
       "Item_Outlet_Sales             0.014123        -0.128625  0.567574   \n",
       "\n",
       "                           Outlet_Establishment_Year  Item_Outlet_Sales  \n",
       "Item_Weight                                -0.011588           0.014123  \n",
       "Item_Visibility                            -0.074834          -0.128625  \n",
       "Item_MRP                                    0.005020           0.567574  \n",
       "Outlet_Establishment_Year                   1.000000          -0.049135  \n",
       "Item_Outlet_Sales                          -0.049135           1.000000  "
      ]
     },
     "execution_count": 27,
     "metadata": {},
     "output_type": "execute_result"
    }
   ],
   "source": [
    "df.corr()"
   ]
  },
  {
   "cell_type": "code",
   "execution_count": 28,
   "metadata": {},
   "outputs": [
    {
     "data": {
      "text/plain": [
       "array([[<Axes: title={'center': 'Item_Weight'}>,\n",
       "        <Axes: title={'center': 'Item_Visibility'}>],\n",
       "       [<Axes: title={'center': 'Item_MRP'}>,\n",
       "        <Axes: title={'center': 'Outlet_Establishment_Year'}>],\n",
       "       [<Axes: title={'center': 'Item_Outlet_Sales'}>, <Axes: >]],\n",
       "      dtype=object)"
      ]
     },
     "execution_count": 28,
     "metadata": {},
     "output_type": "execute_result"
    },
    {
     "data": {
      "image/png": "[encoded data removed]",
      "text/plain": [
       "<Figure size 640x480 with 6 Axes>"
      ]
     },
     "metadata": {},
     "output_type": "display_data"
    }
   ],
   "source": [
    "df.hist()"
   ]
  },
  {
   "cell_type": "code",
   "execution_count": 29,
   "metadata": {},
   "outputs": [
    {
     "data": {
      "text/plain": [
       "<matplotlib.collections.PathCollection at 0x1b6febce0a0>"
      ]
     },
     "execution_count": 29,
     "metadata": {},
     "output_type": "execute_result"
    },
    {
     "data": {
      "image/png": "[encoded data removed]",
      "text/plain": [
       "<Figure size 640x480 with 1 Axes>"
      ]
     },
     "metadata": {},
     "output_type": "display_data"
    }
   ],
   "source": [
    "x=df['Item_MRP']\n",
    "y=df['Item_Outlet_Sales']\n",
    "plt.scatter(x,y)"
   ]
  },
  {
   "cell_type": "code",
   "execution_count": 30,
   "metadata": {},
   "outputs": [
    {
     "data": {
      "image/png": "[encoded data removed]",
      "text/plain": [
       "<Figure size 1200x500 with 2 Axes>"
      ]
     },
     "metadata": {},
     "output_type": "display_data"
    }
   ],
   "source": [
    "fig, ax = plt.subplots(1,2, figsize=(12,5))\n",
    "\n",
    "sns.histplot(data=X_train_N,x='Item_Weight',ax=ax[0]);\n",
    "sns.boxplot(data=X_train_N,y='Item_Weight',ax=ax[1]);"
   ]
  },
  {
   "cell_type": "code",
   "execution_count": 31,
   "metadata": {},
   "outputs": [],
   "source": [
    "def vis_feature(data_frame,col_name):\n",
    "    fig, ax = plt.subplots(1,2, figsize=(12,5))\n",
    "    sns.histplot(data=data_frame,x=col_name,ax=ax[0]);\n",
    "    sns.boxplot(data=data_frame,y=col_name,ax=ax[1]);"
   ]
  },
  {
   "cell_type": "code",
   "execution_count": 32,
   "metadata": {},
   "outputs": [
    {
     "data": {
      "image/png": "[encoded data removed]",
      "text/plain": [
       "<Figure size 1200x500 with 2 Axes>"
      ]
     },
     "metadata": {},
     "output_type": "display_data"
    }
   ],
   "source": [
    "vis_feature(X_train_N,'Item_Weight')"
   ]
  },
  {
   "cell_type": "code",
   "execution_count": 33,
   "metadata": {},
   "outputs": [
    {
     "data": {
      "image/png": "[encoded data removed]",
      "text/plain": [
       "<Figure size 1200x500 with 2 Axes>"
      ]
     },
     "metadata": {},
     "output_type": "display_data"
    }
   ],
   "source": [
    "vis_feature(X_train_N,'Item_Visibility')"
   ]
  },
  {
   "cell_type": "code",
   "execution_count": 34,
   "metadata": {},
   "outputs": [
    {
     "data": {
      "image/png": "[encoded data removed]",
      "text/plain": [
       "<Figure size 1200x500 with 2 Axes>"
      ]
     },
     "metadata": {},
     "output_type": "display_data"
    }
   ],
   "source": [
    "vis_feature(X_train_N,'Item_MRP') "
   ]
  },
  {
   "cell_type": "code",
   "execution_count": 35,
   "metadata": {},
   "outputs": [
    {
     "data": {
      "image/png": "[encoded data removed]",
      "text/plain": [
       "<Figure size 1200x500 with 2 Axes>"
      ]
     },
     "metadata": {},
     "output_type": "display_data"
    }
   ],
   "source": [
    "vis_feature(X_train_N,'Outlet_Establishment_Year') "
   ]
  },
  {
   "cell_type": "code",
   "execution_count": 36,
   "metadata": {},
   "outputs": [
    {
     "data": {
      "text/plain": [
       "<Axes: xlabel='Outlet_Establishment_Year', ylabel='count'>"
      ]
     },
     "execution_count": 36,
     "metadata": {},
     "output_type": "execute_result"
    },
    {
     "data": {
      "image/png": "[encoded data removed]",
      "text/plain": [
       "<Figure size 640x480 with 1 Axes>"
      ]
     },
     "metadata": {},
     "output_type": "display_data"
    }
   ],
   "source": [
    "sns.countplot(data=X_train_N,x='Outlet_Establishment_Year')"
   ]
  },
  {
   "cell_type": "code",
   "execution_count": null,
   "metadata": {},
   "outputs": [],
   "source": []
  }
 ],
 "metadata": {
  "kernelspec": {
   "display_name": "Python 3",
   "language": "python",
   "name": "python3"
  },
  "language_info": {
   "codemirror_mode": {
    "name": "ipython",
    "version": 3
   },
   "file_extension": ".py",
   "mimetype": "text/x-python",
   "name": "python",
   "nbconvert_exporter": "python",
   "pygments_lexer": "ipython3",
   "version": "3.9.13"
  },
  "orig_nbformat": 4
 },
 "nbformat": 4,
 "nbformat_minor": 2
}
